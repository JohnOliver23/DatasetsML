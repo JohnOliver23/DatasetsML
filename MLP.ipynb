{
  "nbformat": 4,
  "nbformat_minor": 0,
  "metadata": {
    "colab": {
      "name": "MLP.ipynb",
      "provenance": [],
      "authorship_tag": "ABX9TyMIVeCZoNjhVEM2p4O/Uequ",
      "include_colab_link": true
    },
    "kernelspec": {
      "name": "python3",
      "display_name": "Python 3"
    }
  },
  "cells": [
    {
      "cell_type": "markdown",
      "metadata": {
        "id": "view-in-github",
        "colab_type": "text"
      },
      "source": [
        "<a href=\"https://colab.research.google.com/github/JohnOliver23/DatasetsML/blob/master/MLP.ipynb\" target=\"_parent\"><img src=\"https://colab.research.google.com/assets/colab-badge.svg\" alt=\"Open In Colab\"/></a>"
      ]
    },
    {
      "cell_type": "code",
      "metadata": {
        "id": "awqHfDBoC8I2",
        "colab_type": "code",
        "colab": {}
      },
      "source": [
        "from sklearn.model_selection import train_test_split\n",
        "from sklearn import metrics\n",
        "import pandas as pd\n",
        "from sklearn.neural_network import MLPClassifier"
      ],
      "execution_count": 0,
      "outputs": []
    },
    {
      "cell_type": "code",
      "metadata": {
        "id": "hSVVxz-PDRPD",
        "colab_type": "code",
        "colab": {}
      },
      "source": [
        "# READ DATABASE\n",
        "# ========== BALANCE-SCALE ===========\n",
        "#url = \"https://raw.githubusercontent.com/JohnOliver23/DatasetsML/master/database/balance-scale.data\"\n",
        "# cols\n",
        "#col_names = ['label', 'x1', 'x2', 'x3', 'x4']\n",
        "#feature_cols = ['x1', 'x2', 'x3', 'x4']\n",
        "\n",
        "\n",
        "# Carregar base de dados\n",
        "#dataset = pd.read_csv(url, header=None, names=col_names)\n",
        "\n",
        "#X = dataset[feature_cols] # Atributos (Features)\n",
        "#y = dataset.label # Saída"
      ],
      "execution_count": 0,
      "outputs": []
    },
    {
      "cell_type": "code",
      "metadata": {
        "id": "3UzMr_HfDbK5",
        "colab_type": "code",
        "colab": {}
      },
      "source": [
        "# READ DATABASE\n",
        "# ========== ABALONE ===========\n",
        "#url = \"https://raw.githubusercontent.com/JohnOliver23/DatasetsML/master/database/abalone.data\"\n",
        "# cols\n",
        "#col_names = ['label', 'x1', 'x2', 'x3', 'x4', 'x5', 'x6','x7','x8']\n",
        "#feature_cols = ['x1', 'x2', 'x3', 'x4','x5', 'x6','x7','x8']\n",
        "\n",
        "\n",
        "# Carregar base de dados\n",
        "#dataset = pd.read_csv(url, header=None, names=col_names)\n",
        "\n",
        "#X = dataset[feature_cols] # Atributos (Features)\n",
        "#y = dataset.label # Saída"
      ],
      "execution_count": 0,
      "outputs": []
    },
    {
      "cell_type": "code",
      "metadata": {
        "id": "jDbs0kAgDhLQ",
        "colab_type": "code",
        "colab": {}
      },
      "source": [
        "# READ DATABASE\n",
        "# ========== Hayes-roth ===========\n",
        "url = \"https://raw.githubusercontent.com/JohnOliver23/DatasetsML/master/database/hayes-roth.data\"\n",
        "# cols\n",
        "col_names = ['name', 'x1', 'x2', 'x3', 'x4', 'label']\n",
        "feature_cols = ['x1', 'x2', 'x3', 'x4']\n",
        "\n",
        "\n",
        "# Carregar base de dados\n",
        "dataset = pd.read_csv(url, header=None, names=col_names)\n",
        "\n",
        "X = dataset[feature_cols] # Atributos (Features)\n",
        "y = dataset.label # Saída"
      ],
      "execution_count": 0,
      "outputs": []
    },
    {
      "cell_type": "code",
      "metadata": {
        "id": "earAOxvfDmF8",
        "colab_type": "code",
        "colab": {
          "base_uri": "https://localhost:8080/",
          "height": 71
        },
        "outputId": "64c72111-8c12-4778-8bce-c49b7fb43501"
      },
      "source": [
        "dataset = pd.read_csv(url, header=None, names=col_names)\n",
        "\n",
        "x = dataset[feature_cols]\n",
        "y = dataset.label\n",
        "\n",
        "x_train, x_test, y_train, y_test = train_test_split(x, y, test_size=0.2, random_state=None, stratify=y) \n",
        "\n",
        "model = MLPClassifier(hidden_layer_sizes=(4, 2), activation='tanh',max_iter=2000)\n",
        "model = model.fit(x_train, y_train)"
      ],
      "execution_count": 3,
      "outputs": [
        {
          "output_type": "stream",
          "text": [
            "/usr/local/lib/python3.6/dist-packages/sklearn/neural_network/_multilayer_perceptron.py:571: ConvergenceWarning: Stochastic Optimizer: Maximum iterations (2000) reached and the optimization hasn't converged yet.\n",
            "  % self.max_iter, ConvergenceWarning)\n"
          ],
          "name": "stderr"
        }
      ]
    },
    {
      "cell_type": "code",
      "metadata": {
        "id": "BDb2HzH_Dy8y",
        "colab_type": "code",
        "colab": {
          "base_uri": "https://localhost:8080/",
          "height": 68
        },
        "outputId": "1c7418f2-2e8e-4af1-903f-568df714faa3"
      },
      "source": [
        "result = model.predict(x_test)\n",
        "acc = metrics.accuracy_score(result, y_test)\n",
        "show = round(acc * 100)\n",
        "print(\"{}%\".format(show))\n",
        "\n",
        "print(list(result))\n",
        "print(list(y_test))"
      ],
      "execution_count": 4,
      "outputs": [
        {
          "output_type": "stream",
          "text": [
            "81.0%\n",
            "[1, 1, 2, 2, 2, 1, 2, 2, 3, 1, 1, 3, 2, 2, 2, 3, 1, 2, 2, 2, 3, 1, 3, 3, 1, 1, 2]\n",
            "[1, 1, 2, 2, 2, 1, 2, 2, 2, 1, 1, 3, 2, 1, 2, 3, 2, 1, 2, 2, 3, 1, 3, 3, 1, 1, 3]\n"
          ],
          "name": "stdout"
        }
      ]
    }
  ]
}