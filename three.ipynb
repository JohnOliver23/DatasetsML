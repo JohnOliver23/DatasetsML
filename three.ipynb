{
  "nbformat": 4,
  "nbformat_minor": 0,
  "metadata": {
    "colab": {
      "name": "three.ipynb",
      "provenance": [],
      "collapsed_sections": [],
      "authorship_tag": "ABX9TyP4cvLNGdvQK6SVccyQ96wh",
      "include_colab_link": true
    },
    "kernelspec": {
      "name": "python3",
      "display_name": "Python 3"
    }
  },
  "cells": [
    {
      "cell_type": "markdown",
      "metadata": {
        "id": "view-in-github",
        "colab_type": "text"
      },
      "source": [
        "<a href=\"https://colab.research.google.com/github/JohnOliver23/DatasetsML/blob/master/three.ipynb\" target=\"_parent\"><img src=\"https://colab.research.google.com/assets/colab-badge.svg\" alt=\"Open In Colab\"/></a>"
      ]
    },
    {
      "cell_type": "code",
      "metadata": {
        "id": "adHqZf5R_hd4",
        "colab_type": "code",
        "colab": {}
      },
      "source": [
        "from sklearn import tree\n",
        "from sklearn.model_selection import train_test_split\n",
        "from sklearn import metrics\n",
        "import pandas as pd\n"
      ],
      "execution_count": 0,
      "outputs": []
    },
    {
      "cell_type": "code",
      "metadata": {
        "id": "GAcn87QEjChV",
        "colab_type": "code",
        "colab": {}
      },
      "source": [
        "# READ DATABASE\n",
        "# ========== BALANCE-SCALE ===========\n",
        "# url = \"https://raw.githubusercontent.com/JohnOliver23/DatasetsML/master/database/balance-scale.data\"\n",
        "# cols\n",
        "# col_names = ['label', 'x1', 'x2', 'x3', 'x4']\n",
        "# feature_cols = ['x1', 'x2', 'x3', 'x4']\n",
        "\n",
        "\n",
        "# Carregar base de dados\n",
        "# dataset = pd.read_csv(url, header=None, names=col_names)\n",
        "\n",
        "# X = dataset[feature_cols] # Atributos (Features)\n",
        "# y = dataset.label # Saída"
      ],
      "execution_count": 0,
      "outputs": []
    },
    {
      "cell_type": "code",
      "metadata": {
        "id": "95m1qz4AbaIv",
        "colab_type": "code",
        "colab": {}
      },
      "source": [
        "\n",
        "# READ DATABASE\n",
        "# ========== ABALONE ===========\n",
        "# url = \"https://raw.githubusercontent.com/JohnOliver23/DatasetsML/master/database/abalone.data\"\n",
        "# cols\n",
        "#col_names = ['label', 'x1', 'x2', 'x3', 'x4', 'x5', 'x6','x7','x8']\n",
        "#feature_cols = ['x1', 'x2', 'x3', 'x4','x5', 'x6','x7','x8']\n",
        "\n",
        "\n",
        "# Carregar base de dados\n",
        "#dataset = pd.read_csv(url, header=None, names=col_names)\n",
        "\n",
        "#X = dataset[feature_cols] # Atributos (Features)\n",
        "#y = dataset.label # Saída"
      ],
      "execution_count": 0,
      "outputs": []
    },
    {
      "cell_type": "code",
      "metadata": {
        "id": "UyWEipJ4i1g4",
        "colab_type": "code",
        "colab": {}
      },
      "source": [
        "\n",
        "# READ DATABASE\n",
        "# ========== Hayes-roth ===========\n",
        "url = \"https://raw.githubusercontent.com/JohnOliver23/DatasetsML/master/database/hayes-roth.data\"\n",
        "# cols\n",
        "col_names = ['name', 'x1', 'x2', 'x3', 'x4', 'label']\n",
        "feature_cols = ['x1', 'x2', 'x3', 'x4']\n",
        "\n",
        "\n",
        "# Carregar base de dados\n",
        "dataset = pd.read_csv(url, header=None, names=col_names)\n",
        "\n",
        "X = dataset[feature_cols] # Atributos (Features)\n",
        "y = dataset.label # Saída"
      ],
      "execution_count": 0,
      "outputs": []
    },
    {
      "cell_type": "code",
      "metadata": {
        "id": "nxTzr6HF_ta6",
        "colab_type": "code",
        "outputId": "462d2019-d59b-488a-ae7d-6af5aef1edf1",
        "colab": {
          "base_uri": "https://localhost:8080/",
          "height": 578
        }
      },
      "source": [
        "X_train, X_test, y_train, y_test = train_test_split(X, y, test_size=0.2, random_state=None, stratify=y) # 80% treino e 20% teste\n",
        "\n",
        "\n",
        "print(y_test)\n"
      ],
      "execution_count": 0,
      "outputs": [
        {
          "output_type": "stream",
          "text": [
            "150    1\n",
            "85     2\n",
            "140    1\n",
            "89     2\n",
            "118    2\n",
            "97     1\n",
            "66     2\n",
            "113    1\n",
            "120    2\n",
            "156    1\n",
            "31     1\n",
            "129    2\n",
            "69     2\n",
            "114    1\n",
            "115    3\n",
            "138    1\n",
            "14     3\n",
            "132    1\n",
            "68     3\n",
            "157    2\n",
            "34     3\n",
            "12     1\n",
            "42     2\n",
            "149    2\n",
            "121    3\n",
            "18     1\n",
            "36     2\n",
            "143    2\n",
            "27     2\n",
            "96     1\n",
            "112    1\n",
            "62     3\n",
            "Name: label, dtype: int64\n"
          ],
          "name": "stdout"
        }
      ]
    },
    {
      "cell_type": "code",
      "metadata": {
        "id": "jZbNWc9U_w7D",
        "colab_type": "code",
        "colab": {}
      },
      "source": [
        "# Treinamendo da Árvore de Decisão\n",
        "model = tree.DecisionTreeClassifier(criterion=\"entropy\")\n",
        "model = model.fit(X_train, y_train)"
      ],
      "execution_count": 0,
      "outputs": []
    },
    {
      "cell_type": "code",
      "metadata": {
        "id": "mc-IJkPJ_1Gl",
        "colab_type": "code",
        "outputId": "6f8760bf-f529-40ba-9ad7-bc9c3011021e",
        "colab": {
          "base_uri": "https://localhost:8080/",
          "height": 68
        }
      },
      "source": [
        "# Predição e Resultados\n",
        "\n",
        "result = model.predict(X_test)\n",
        "acc = metrics.accuracy_score(result, y_test)\n",
        "show = round(acc * 100)\n",
        "print(\"{}%\".format(show))\n",
        "\n",
        "print(list(result))\n",
        "print(list(y_test))"
      ],
      "execution_count": 0,
      "outputs": [
        {
          "output_type": "stream",
          "text": [
            "84.0%\n",
            "[1, 1, 1, 2, 2, 1, 2, 1, 2, 1, 1, 2, 2, 1, 3, 1, 3, 1, 3, 2, 3, 1, 1, 1, 3, 2, 2, 2, 2, 1, 2, 3]\n",
            "[1, 2, 1, 2, 2, 1, 2, 1, 2, 1, 1, 2, 2, 1, 3, 1, 3, 1, 3, 2, 3, 1, 2, 2, 3, 1, 2, 2, 2, 1, 1, 3]\n"
          ],
          "name": "stdout"
        }
      ]
    },
    {
      "cell_type": "code",
      "metadata": {
        "id": "NKXaKnEc_5b6",
        "colab_type": "code",
        "outputId": "242eb2df-c7fd-4944-8f64-06172bf5deba",
        "colab": {
          "base_uri": "https://localhost:8080/",
          "height": 979
        }
      },
      "source": [
        "tree.plot_tree(model) "
      ],
      "execution_count": 0,
      "outputs": [
        {
          "output_type": "execute_result",
          "data": {
            "text/plain": [
              "[Text(188.32500000000002, 207.55636363636364, 'X[2] <= 3.5\\nentropy = 1.517\\nsamples = 128\\nvalue = [52, 51, 25]'),\n",
              " Text(167.4, 187.7890909090909, 'X[1] <= 3.5\\nentropy = 1.378\\nsamples = 115\\nvalue = [52, 51, 12]'),\n",
              " Text(146.475, 168.0218181818182, 'X[3] <= 3.5\\nentropy = 1.193\\nsamples = 107\\nvalue = [52, 51, 4]'),\n",
              " Text(125.55000000000001, 148.25454545454545, 'X[1] <= 1.5\\nentropy = 1.0\\nsamples = 103\\nvalue = [52, 51, 0]'),\n",
              " Text(41.85, 128.48727272727274, 'X[2] <= 1.5\\nentropy = 0.858\\nsamples = 39\\nvalue = [28, 11, 0]'),\n",
              " Text(20.925, 108.72, 'entropy = 0.0\\nsamples = 11\\nvalue = [11, 0, 0]'),\n",
              " Text(62.775000000000006, 108.72, 'X[3] <= 1.5\\nentropy = 0.967\\nsamples = 28\\nvalue = [17, 11, 0]'),\n",
              " Text(41.85, 88.95272727272729, 'entropy = 0.0\\nsamples = 10\\nvalue = [10, 0, 0]'),\n",
              " Text(83.7, 88.95272727272729, 'X[3] <= 2.5\\nentropy = 0.964\\nsamples = 18\\nvalue = [7, 11, 0]'),\n",
              " Text(62.775000000000006, 69.18545454545455, 'X[2] <= 2.5\\nentropy = 0.896\\nsamples = 16\\nvalue = [5, 11, 0]'),\n",
              " Text(41.85, 49.418181818181836, 'entropy = 0.0\\nsamples = 6\\nvalue = [0, 6, 0]'),\n",
              " Text(83.7, 49.418181818181836, 'X[0] <= 2.5\\nentropy = 1.0\\nsamples = 10\\nvalue = [5, 5, 0]'),\n",
              " Text(62.775000000000006, 29.650909090909096, 'X[0] <= 1.5\\nentropy = 0.985\\nsamples = 7\\nvalue = [3, 4, 0]'),\n",
              " Text(41.85, 9.883636363636384, 'entropy = 1.0\\nsamples = 4\\nvalue = [2, 2, 0]'),\n",
              " Text(83.7, 9.883636363636384, 'entropy = 0.918\\nsamples = 3\\nvalue = [1, 2, 0]'),\n",
              " Text(104.625, 29.650909090909096, 'entropy = 0.918\\nsamples = 3\\nvalue = [2, 1, 0]'),\n",
              " Text(104.625, 69.18545454545455, 'entropy = 0.0\\nsamples = 2\\nvalue = [2, 0, 0]'),\n",
              " Text(209.25, 128.48727272727274, 'X[2] <= 1.5\\nentropy = 0.954\\nsamples = 64\\nvalue = [24, 40, 0]'),\n",
              " Text(146.475, 108.72, 'X[3] <= 1.5\\nentropy = 0.983\\nsamples = 33\\nvalue = [19, 14, 0]'),\n",
              " Text(125.55000000000001, 88.95272727272729, 'entropy = 0.0\\nsamples = 12\\nvalue = [12, 0, 0]'),\n",
              " Text(167.4, 88.95272727272729, 'X[3] <= 2.5\\nentropy = 0.918\\nsamples = 21\\nvalue = [7, 14, 0]'),\n",
              " Text(146.475, 69.18545454545455, 'entropy = 0.0\\nsamples = 10\\nvalue = [0, 10, 0]'),\n",
              " Text(188.32500000000002, 69.18545454545455, 'X[1] <= 2.5\\nentropy = 0.946\\nsamples = 11\\nvalue = [7, 4, 0]'),\n",
              " Text(167.4, 49.418181818181836, 'X[0] <= 2.5\\nentropy = 0.991\\nsamples = 9\\nvalue = [5, 4, 0]'),\n",
              " Text(146.475, 29.650909090909096, 'X[0] <= 1.5\\nentropy = 1.0\\nsamples = 6\\nvalue = [3, 3, 0]'),\n",
              " Text(125.55000000000001, 9.883636363636384, 'entropy = 1.0\\nsamples = 4\\nvalue = [2, 2, 0]'),\n",
              " Text(167.4, 9.883636363636384, 'entropy = 1.0\\nsamples = 2\\nvalue = [1, 1, 0]'),\n",
              " Text(188.32500000000002, 29.650909090909096, 'entropy = 0.918\\nsamples = 3\\nvalue = [2, 1, 0]'),\n",
              " Text(209.25, 49.418181818181836, 'entropy = 0.0\\nsamples = 2\\nvalue = [2, 0, 0]'),\n",
              " Text(272.02500000000003, 108.72, 'X[1] <= 2.5\\nentropy = 0.637\\nsamples = 31\\nvalue = [5, 26, 0]'),\n",
              " Text(251.10000000000002, 88.95272727272729, 'entropy = 0.0\\nsamples = 17\\nvalue = [0, 17, 0]'),\n",
              " Text(292.95, 88.95272727272729, 'X[2] <= 2.5\\nentropy = 0.94\\nsamples = 14\\nvalue = [5, 9, 0]'),\n",
              " Text(272.02500000000003, 69.18545454545455, 'X[3] <= 1.5\\nentropy = 0.811\\nsamples = 12\\nvalue = [3, 9, 0]'),\n",
              " Text(251.10000000000002, 49.418181818181836, 'X[0] <= 2.5\\nentropy = 0.918\\nsamples = 9\\nvalue = [3, 6, 0]'),\n",
              " Text(230.175, 29.650909090909096, 'X[0] <= 1.5\\nentropy = 0.985\\nsamples = 7\\nvalue = [3, 4, 0]'),\n",
              " Text(209.25, 9.883636363636384, 'entropy = 0.918\\nsamples = 3\\nvalue = [1, 2, 0]'),\n",
              " Text(251.10000000000002, 9.883636363636384, 'entropy = 1.0\\nsamples = 4\\nvalue = [2, 2, 0]'),\n",
              " Text(272.02500000000003, 29.650909090909096, 'entropy = 0.0\\nsamples = 2\\nvalue = [0, 2, 0]'),\n",
              " Text(292.95, 49.418181818181836, 'entropy = 0.0\\nsamples = 3\\nvalue = [0, 3, 0]'),\n",
              " Text(313.875, 69.18545454545455, 'entropy = 0.0\\nsamples = 2\\nvalue = [2, 0, 0]'),\n",
              " Text(167.4, 148.25454545454545, 'entropy = 0.0\\nsamples = 4\\nvalue = [0, 0, 4]'),\n",
              " Text(188.32500000000002, 168.0218181818182, 'entropy = 0.0\\nsamples = 8\\nvalue = [0, 0, 8]'),\n",
              " Text(209.25, 187.7890909090909, 'entropy = 0.0\\nsamples = 13\\nvalue = [0, 0, 13]')]"
            ]
          },
          "metadata": {
            "tags": []
          },
          "execution_count": 88
        },
        {
          "output_type": "display_data",
          "data": {
            "image/png": "[encoded data removed]",
            "text/plain": [
              "<Figure size 432x288 with 1 Axes>"
            ]
          },
          "metadata": {
            "tags": []
          }
        }
      ]
    },
    {
      "cell_type": "code",
      "metadata": {
        "id": "7iPUX5HmbSy6",
        "colab_type": "code",
        "colab": {}
      },
      "source": [
        ""
      ],
      "execution_count": 0,
      "outputs": []
    }
  ]
}