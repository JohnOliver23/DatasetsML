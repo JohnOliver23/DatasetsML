{
  "nbformat": 4,
  "nbformat_minor": 0,
  "metadata": {
    "colab": {
      "name": "k-means.ipynb",
      "provenance": [],
      "authorship_tag": "ABX9TyM2yfz/RKQ2cecI5dEq793D",
      "include_colab_link": true
    },
    "kernelspec": {
      "name": "python3",
      "display_name": "Python 3"
    }
  },
  "cells": [
    {
      "cell_type": "markdown",
      "metadata": {
        "id": "view-in-github",
        "colab_type": "text"
      },
      "source": [
        "<a href=\"https://colab.research.google.com/github/JohnOliver23/DatasetsML/blob/master/k_means.ipynb\" target=\"_parent\"><img src=\"https://colab.research.google.com/assets/colab-badge.svg\" alt=\"Open In Colab\"/></a>"
      ]
    },
    {
      "cell_type": "code",
      "metadata": {
        "id": "eXV7LG0zLGK3",
        "colab_type": "code",
        "colab": {}
      },
      "source": [
        "#Import libraries\n",
        "import numpy as np\n",
        "import pandas as pd\n",
        "import matplotlib.pyplot as plt\n",
        "from sklearn.cluster import KMeans"
      ],
      "execution_count": 0,
      "outputs": []
    },
    {
      "cell_type": "code",
      "metadata": {
        "id": "T8BaNfOyMYe0",
        "colab_type": "code",
        "colab": {}
      },
      "source": [
        "# READ DATABASE\n",
        "# ========== BALANCE-SCALE ===========\n",
        "# url = \"https://raw.githubusercontent.com/JohnOliver23/DatasetsML/master/database/balance-scale.data\"\n",
        "# cols\n",
        "# col_names = ['label', 'x1', 'x2', 'x3', 'x4']\n",
        "# feature_cols = ['x1', 'x2', 'x3', 'x4']\n",
        "\n",
        "\n",
        "# Carregar base de dados\n",
        "# dataset = pd.read_csv(url, header=None, names=col_names)\n",
        "\n",
        "# X = dataset[feature_cols] # Atributos (Features)\n",
        "# y = dataset.label # Saída"
      ],
      "execution_count": 0,
      "outputs": []
    },
    {
      "cell_type": "code",
      "metadata": {
        "id": "KI-x7FSUMb3Z",
        "colab_type": "code",
        "colab": {}
      },
      "source": [
        "# READ DATABASE\n",
        "# ========== ABALONE ===========\n",
        "#url = \"https://raw.githubusercontent.com/JohnOliver23/DatasetsML/master/database/abalone.data\"\n",
        "# cols\n",
        "#col_names = ['label', 'x1', 'x2', 'x3', 'x4', 'x5', 'x6','x7','x8']\n",
        "#feature_cols = ['x1', 'x2', 'x3', 'x4','x5', 'x6','x7','x8']\n",
        "\n",
        "\n",
        "# Carregar base de dados\n",
        "#dataset = pd.read_csv(url, header=None, names=col_names)\n",
        "\n",
        "#X = dataset[feature_cols] # Atributos (Features)\n",
        "#y = dataset.label # Saída"
      ],
      "execution_count": 0,
      "outputs": []
    },
    {
      "cell_type": "code",
      "metadata": {
        "id": "LS-fYzSTMgHb",
        "colab_type": "code",
        "colab": {}
      },
      "source": [
        "# READ DATABASE\n",
        "# ========== Hayes-roth ===========\n",
        "url = \"https://raw.githubusercontent.com/JohnOliver23/DatasetsML/master/database/hayes-roth.data\"\n",
        "# cols\n",
        "col_names = ['name', 'x1', 'x2', 'x3', 'x4', 'label']\n",
        "feature_cols = ['x1', 'x2', 'x3', 'x4']\n",
        "\n",
        "\n",
        "# Carregar base de dados\n",
        "df = pd.read_csv(url, header=None, names=col_names)\n",
        "\n",
        "X = dataset[feature_cols] # Atributos (Features)\n",
        "y = dataset.label # Saída"
      ],
      "execution_count": 0,
      "outputs": []
    },
    {
      "cell_type": "code",
      "metadata": {
        "id": "-b154njVMkZd",
        "colab_type": "code",
        "colab": {
          "base_uri": "https://localhost:8080/",
          "height": 170
        },
        "outputId": "308a5c1b-e358-41e8-bde7-ca3d61068097"
      },
      "source": [
        "x = df.iloc[:, [0,1,2,3]].values\n",
        "kmeans = KMeans(n_clusters=4)#muda de acordo com as classes\n",
        "y_kmeans = kmeans.fit_predict(x)\n",
        "print(y_kmeans)\n",
        "\n",
        "kmeans5.cluster_centers_"
      ],
      "execution_count": 17,
      "outputs": [
        {
          "output_type": "stream",
          "text": [
            "[3 0 3 2 1 1 3 1 2 1 3 1 3 2 0 0 3 2 2 3 2 0 1 0 3 3 0 0 0 2 0 1 2 2 1 1 3\n",
            " 3 3 2 3 3 0 3 1 1 1 2 0 2 3 2 2 1 3 1 3 1 2 3 0 1 1 0 0 3 3 0 2 1 1 0 2 1\n",
            " 3 2 3 2 1 1 0 2 1 2 0 3 1 0 1 0 2 2 1 2 2 3 0 0 0 0 1 3 2 2 3 2 0 3 2 1 0\n",
            " 3 0 1 2 1 3 0 1 0 0 2 3 2 1 0 0 2 2 3 0 0]\n"
          ],
          "name": "stdout"
        },
        {
          "output_type": "execute_result",
          "data": {
            "text/plain": [
              "array([[119.5       ,   1.92307692,   1.76923077,   1.96153846],\n",
              "       [ 41.        ,   1.81481481,   1.96296296,   1.62962963],\n",
              "       [ 67.5       ,   2.30769231,   2.07692308,   1.92307692],\n",
              "       [ 14.        ,   1.92592593,   2.18518519,   2.18518519],\n",
              "       [ 93.5       ,   2.03846154,   1.76923077,   2.07692308]])"
            ]
          },
          "metadata": {
            "tags": []
          },
          "execution_count": 17
        }
      ]
    },
    {
      "cell_type": "code",
      "metadata": {
        "id": "KtTkgwS8NiiB",
        "colab_type": "code",
        "colab": {
          "base_uri": "https://localhost:8080/",
          "height": 295
        },
        "outputId": "c55314d0-20ed-4758-d8f7-051f1673e18f"
      },
      "source": [
        "Error =[]\n",
        "for i in range(1, 11):\n",
        "    kmeans = KMeans(n_clusters = i).fit(x)\n",
        "    kmeans.fit(x)\n",
        "    Error.append(kmeans.inertia_)\n",
        "import matplotlib.pyplot as plt\n",
        "plt.plot(range(1, 11), Error)\n",
        "plt.title('Elbow method')\n",
        "plt.xlabel('No of clusters')\n",
        "plt.ylabel('Error')\n",
        "plt.show()"
      ],
      "execution_count": 18,
      "outputs": [
        {
          "output_type": "display_data",
          "data": {
            "image/png": "[encoded data removed]",
            "text/plain": [
              "<Figure size 432x288 with 1 Axes>"
            ]
          },
          "metadata": {
            "tags": []
          }
        }
      ]
    }
  ]
}