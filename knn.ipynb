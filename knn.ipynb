{
  "nbformat": 4,
  "nbformat_minor": 0,
  "metadata": {
    "colab": {
      "name": "knn.ipynb",
      "provenance": [],
      "authorship_tag": "ABX9TyN4GpF7etJFCLgge/B8DiHl",
      "include_colab_link": true
    },
    "kernelspec": {
      "name": "python3",
      "display_name": "Python 3"
    }
  },
  "cells": [
    {
      "cell_type": "markdown",
      "metadata": {
        "id": "view-in-github",
        "colab_type": "text"
      },
      "source": [
        "<a href=\"https://colab.research.google.com/github/JohnOliver23/DatasetsML/blob/master/knn.ipynb\" target=\"_parent\"><img src=\"https://colab.research.google.com/assets/colab-badge.svg\" alt=\"Open In Colab\"/></a>"
      ]
    },
    {
      "cell_type": "code",
      "metadata": {
        "id": "BeJUL43A55vY",
        "colab_type": "code",
        "colab": {}
      },
      "source": [
        "from sklearn.model_selection import train_test_split\n",
        "from sklearn import metrics\n",
        "import pandas as pd\n",
        "from sklearn.neighbors import KNeighborsClassifier\n",
        "import math\n",
        "import statistics\n",
        "import numpy\n",
        "from collections import Counter"
      ],
      "execution_count": 0,
      "outputs": []
    },
    {
      "cell_type": "code",
      "metadata": {
        "id": "hr6ctz6y59U0",
        "colab_type": "code",
        "colab": {}
      },
      "source": [
        "# READ DATABASE\n",
        "# ========== BALANCE-SCALE ===========\n",
        "#url = \"https://raw.githubusercontent.com/JohnOliver23/DatasetsML/master/database/balance-scale.data\"\n",
        "# cols\n",
        "#col_names = ['label', 'x1', 'x2', 'x3', 'x4']\n",
        "#feature_cols = ['x1', 'x2', 'x3', 'x4']\n",
        "\n",
        "\n",
        "# Carregar base de dados\n",
        "#dataset = pd.read_csv(url, header=None, names=col_names)\n",
        "\n",
        "#X = dataset[feature_cols] # Atributos (Features)\n",
        "#y = dataset.label # Saída"
      ],
      "execution_count": 0,
      "outputs": []
    },
    {
      "cell_type": "code",
      "metadata": {
        "id": "o3Rw1wyy6BvE",
        "colab_type": "code",
        "colab": {}
      },
      "source": [
        "# READ DATABASE\n",
        "# ========== ABALONE ===========\n",
        "#url = \"https://raw.githubusercontent.com/JohnOliver23/DatasetsML/master/database/abalone.data\"\n",
        "# cols\n",
        "#col_names = ['label', 'x1', 'x2', 'x3', 'x4', 'x5', 'x6','x7','x8']\n",
        "#feature_cols = ['x1', 'x2', 'x3', 'x4','x5', 'x6','x7','x8']\n",
        "\n",
        "\n",
        "# Carregar base de dados\n",
        "#dataset = pd.read_csv(url, header=None, names=col_names)\n",
        "\n",
        "#X = dataset[feature_cols] # Atributos (Features)\n",
        "#y = dataset.label # Saída"
      ],
      "execution_count": 0,
      "outputs": []
    },
    {
      "cell_type": "code",
      "metadata": {
        "id": "eO1lWCjS6GSY",
        "colab_type": "code",
        "colab": {}
      },
      "source": [
        "# READ DATABASE\n",
        "# ========== Hayes-roth ===========\n",
        "url = \"https://raw.githubusercontent.com/JohnOliver23/DatasetsML/master/database/hayes-roth.data\"\n",
        "# cols\n",
        "col_names = ['name', 'x1', 'x2', 'x3', 'x4', 'label']\n",
        "feature_cols = ['x1', 'x2', 'x3', 'x4']\n",
        "\n",
        "\n",
        "# Carregar base de dados\n",
        "dataset = pd.read_csv(url, header=None, names=col_names)\n",
        "\n",
        "X = dataset[feature_cols] # Atributos (Features)\n",
        "y = dataset.label # Saída"
      ],
      "execution_count": 0,
      "outputs": []
    },
    {
      "cell_type": "code",
      "metadata": {
        "id": "mjvJDSca6yVR",
        "colab_type": "code",
        "colab": {}
      },
      "source": [
        "dataset = pd.read_csv(url, header=None, names=col_names)\n",
        "\n",
        "x = dataset[feature_cols]\n",
        "y = dataset.label\n",
        "\n",
        "x_train, x_test, y_train, y_test = train_test_split(x, y, test_size=0.2, random_state=None, stratify=y) \n",
        "\n",
        "n = 5\n",
        "\n",
        "model = KNeighborsClassifier(n_neighbors=n, metric='euclidean', algorithm='brute')\n",
        "model = model.fit(x_train, y_train)"
      ],
      "execution_count": 0,
      "outputs": []
    },
    {
      "cell_type": "code",
      "metadata": {
        "id": "ecal111l623a",
        "colab_type": "code",
        "colab": {
          "base_uri": "https://localhost:8080/",
          "height": 68
        },
        "outputId": "e3c3edc2-d6a3-45f2-9ba2-3d057d78ff08"
      },
      "source": [
        "result = model.predict(x_test)\n",
        "acc = metrics.accuracy_score(result, y_test)\n",
        "show = round(acc * 100)\n",
        "print(\"{}%\".format(show))\n",
        "\n",
        "print(list(result))\n",
        "print(list(y_test))"
      ],
      "execution_count": 43,
      "outputs": [
        {
          "output_type": "stream",
          "text": [
            "48.0%\n",
            "[2, 1, 2, 1, 3, 2, 2, 3, 2, 2, 2, 2, 3, 1, 2, 2, 2, 1, 1, 2, 1, 3, 1, 1, 1, 1, 1]\n",
            "[1, 1, 1, 2, 3, 1, 2, 3, 1, 2, 1, 1, 3, 2, 1, 2, 2, 2, 3, 2, 2, 3, 1, 3, 1, 2, 1]\n"
          ],
          "name": "stdout"
        }
      ]
    }
  ]
}