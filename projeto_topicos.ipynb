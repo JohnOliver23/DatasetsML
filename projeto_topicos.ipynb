{
  "nbformat": 4,
  "nbformat_minor": 0,
  "metadata": {
    "colab": {
      "name": "projeto_topicos.ipynb",
      "provenance": [],
      "authorship_tag": "ABX9TyNAZlkNHb9ONy15vqBARimU",
      "include_colab_link": true
    },
    "kernelspec": {
      "name": "python3",
      "display_name": "Python 3"
    }
  },
  "cells": [
    {
      "cell_type": "markdown",
      "metadata": {
        "id": "view-in-github",
        "colab_type": "text"
      },
      "source": [
        "<a href=\"https://colab.research.google.com/github/JohnOliver23/DatasetsML/blob/master/projeto_topicos.ipynb\" target=\"_parent\"><img src=\"https://colab.research.google.com/assets/colab-badge.svg\" alt=\"Open In Colab\"/></a>"
      ]
    },
    {
      "cell_type": "code",
      "metadata": {
        "id": "jwqXl0VGJrhU",
        "colab_type": "code",
        "colab": {}
      },
      "source": [
        "from sklearn import tree\n",
        "from sklearn.neighbors import KNeighborsClassifier\n",
        "from sklearn.neural_network import MLPClassifier\n",
        "from sklearn.cluster import KMeans\n",
        "import pandas as pd\n",
        "from sklearn import tree\n",
        "from sklearn import preprocessing\n",
        "from IPython.display import Markdown as md\n",
        "import matplotlib.pyplot as plt\n",
        "\n",
        "raw_dataset_wine = pd.read_csv( \"https://raw.githubusercontent.com/kmlporto/machinelearning/master/database/wine.data\" ,  delimiter=\",\",header=None, encoding=\"utf-8-sig\") \n",
        "raw_dataset_balance_scale = pd.read_csv( \"https://raw.githubusercontent.com/JohnOliver23/DatasetsML/master/database/balance-scale.data\" ,  delimiter=\",\",header=None, encoding=\"utf-8-sig\") \n",
        "raw_dataset_abalone = pd.read_csv( \"https://raw.githubusercontent.com/JohnOliver23/DatasetsML/master/database/abalone.data\" ,  delimiter=\",\",header=None, encoding=\"utf-8-sig\")"
      ],
      "execution_count": 0,
      "outputs": []
    },
    {
      "cell_type": "code",
      "metadata": {
        "id": "y9S6hz_fKsXL",
        "colab_type": "code",
        "outputId": "3f6ef47a-3083-41ee-d61f-46d9298c1bf5",
        "colab": {
          "base_uri": "https://localhost:8080/",
          "height": 224
        }
      },
      "source": [
        "# WINE DATASET TESTS\n",
        "\n",
        "# Creating collections vars \n",
        "wine_test = raw_dataset_wine.sample(frac=0.2)\n",
        "wine_fit = raw_dataset_wine.drop(wine_test.index)\n",
        "\n",
        "# Creating result vars \n",
        "wine_results = {\n",
        "    'tree': 0,\n",
        "    'knn5': 0,\n",
        "    'knn10': 0,\n",
        "    'mlp1': 0,\n",
        "    'mlp2': 0,\n",
        "    'kmeans': 0\n",
        "} \n",
        "\n",
        "# X and Y vars \n",
        "wine_x = wine_fit[[1,2,3,4,5,6,7,8,9,10,11,12,13]]\n",
        "wine_y = wine_fit[[0]]\n",
        "\n",
        "# Binary Tree Fit and Tests \n",
        "wine_tree = tree.DecisionTreeClassifier()\n",
        "wine_tree.fit(wine_x,wine_y)\n",
        "wine_tree.fit(wine_x,wine_y)\n",
        "wine_tree.fit(wine_x,wine_y)\n",
        "wine_tree.fit(wine_x,wine_y)\n",
        "wine_tree.fit(wine_x,wine_y)\n",
        "wine_test_result = wine_tree.predict(wine_test[[1,2,3,4,5,6,7,8,9,10,11,12,13]])\n",
        "\n",
        "i = 0\n",
        "acceptResult = 0\n",
        "for data in  wine_test[0] :\n",
        "    if(data == wine_test_result[i]):\n",
        "        acceptResult = acceptResult + 1\n",
        "    i = i+1\n",
        "\n",
        "wine_results['tree']    = acceptResult/wine_test_result.size * 100\n",
        "\n",
        "# KNN n=5 Fit and Tests \n",
        "wine_knn5 = KNeighborsClassifier(weights='distance', n_neighbors=5)\n",
        "wine_knn5.fit(wine_x,wine_y)\n",
        "wine_test_result = wine_knn5.predict(wine_test[[1,2,3,4,5,6,7,8,9,10,11,12,13]])\n",
        "\n",
        "i = 0\n",
        "acceptResult = 0\n",
        "for data in  wine_test[0] :\n",
        "    if(data == wine_test_result[i]):\n",
        "        acceptResult = acceptResult + 1\n",
        "    i = i+1\n",
        "\n",
        "wine_results['knn5'] = acceptResult/wine_test_result.size * 100\n",
        "\n",
        "# KNN n=10 Fit and Tests \n",
        "wine_knn10 = KNeighborsClassifier(weights='distance', n_neighbors=10)\n",
        "wine_knn10.fit(wine_x,wine_y)\n",
        "wine_test_result = wine_knn10.predict(wine_test[[1,2,3,4,5,6,7,8,9,10,11,12,13]])\n",
        "\n",
        "i = 0\n",
        "acceptResult = 0\n",
        "for data in  wine_test[0] :\n",
        "    if(data == wine_test_result[i]):\n",
        "        acceptResult = acceptResult + 1\n",
        "    i = i+1\n",
        "\n",
        "wine_results['knn10'] = acceptResult/wine_test_result.size * 100\n",
        "\n",
        "# MLP1 Fit and Tests\n",
        "#wine_mlp1 = MLPClassifier(hidden_layer_sizes=(100,100,0), max_iter=1000, alpha=0.0001,solver='sgd', verbose=10,  random_state=21,tol=0.000000001)\n",
        "wine_mlp1 = MLPClassifier(hidden_layer_sizes=(5, 2))\n",
        "wine_mlp1.fit(wine_x,wine_y, )\n",
        "wine_test_result = wine_mlp1.predict(wine_test[[1,2,3,4,5,6,7,8,9,10,11,12,13]])\n",
        "\n",
        "i = 0\n",
        "acceptResult = 0\n",
        "for data in  wine_test[0] :\n",
        "    if(data == wine_test_result[i]):\n",
        "        acceptResult = acceptResult + 1\n",
        "    i = i+1\n",
        "\n",
        "wine_results['mlp1'] = acceptResult/wine_test_result.size * 100\n",
        "\n",
        "\n",
        "\n",
        "# MLP2 Fit and Tests \n",
        "wine_mlp2 = MLPClassifier(hidden_layer_sizes=(10, 5))\n",
        "wine_mlp2.fit(wine_x,wine_y)\n",
        "wine_test_result = wine_mlp2.predict(wine_test[[1,2,3,4,5,6,7,8,9,10,11,12,13]])\n",
        "\n",
        "i = 0\n",
        "acceptResult = 0\n",
        "for data in  wine_test[0] :\n",
        "    if(data == wine_test_result[i]):\n",
        "        acceptResult = acceptResult + 1\n",
        "    i = i+1\n",
        "\n",
        "wine_results['mlp2'] = acceptResult/wine_test_result.size * 100\n",
        "\n",
        "\n",
        "# Kmeans Fit and Tests \n",
        "wine_km = KMeans(n_clusters=3)\n",
        "wine_km.fit(wine_x,wine_y)\n",
        "wine_test_result = wine_km.predict(wine_test[[1,2,3,4,5,6,7,8,9,10,11,12,13]])\n",
        "\n",
        "i = 0\n",
        "acceptResult = 0\n",
        "for data in  wine_test[0] :\n",
        "    if(data == wine_test_result[i]):\n",
        "        acceptResult = acceptResult + 1\n",
        "    i = i+1\n",
        "\n",
        "wine_results['kmeans'] = acceptResult/wine_test_result.size * 100\n",
        "\n",
        "x = raw_dataset_wine.iloc[:, [1,2,3,4,5,6,7,8,9,10,11,12,13]].values\n",
        "kmeans = KMeans(n_clusters=3)#muda de acordo com as classes\n",
        "y_kmeans = kmeans.fit_predict(x)\n",
        "\n",
        "kmeans.cluster_centers_\n",
        "\n",
        "ErrorWineKm =[]\n",
        "for i in range(1, len(wine_test[0])):\n",
        "    kmeans = KMeans(n_clusters = i).fit(x)\n",
        "    kmeans.fit(x)\n",
        "    ErrorWineKm.append(kmeans.inertia_)\n",
        "\n",
        "print(wine_results)\n"
      ],
      "execution_count": 58,
      "outputs": [
        {
          "output_type": "stream",
          "text": [
            "/usr/local/lib/python3.6/dist-packages/ipykernel_launcher.py:38: DataConversionWarning: A column-vector y was passed when a 1d array was expected. Please change the shape of y to (n_samples, ), for example using ravel().\n",
            "/usr/local/lib/python3.6/dist-packages/ipykernel_launcher.py:52: DataConversionWarning: A column-vector y was passed when a 1d array was expected. Please change the shape of y to (n_samples, ), for example using ravel().\n",
            "/usr/local/lib/python3.6/dist-packages/sklearn/neural_network/_multilayer_perceptron.py:934: DataConversionWarning: A column-vector y was passed when a 1d array was expected. Please change the shape of y to (n_samples, ), for example using ravel().\n",
            "  y = column_or_1d(y, warn=True)\n",
            "/usr/local/lib/python3.6/dist-packages/sklearn/neural_network/_multilayer_perceptron.py:571: ConvergenceWarning: Stochastic Optimizer: Maximum iterations (200) reached and the optimization hasn't converged yet.\n",
            "  % self.max_iter, ConvergenceWarning)\n",
            "/usr/local/lib/python3.6/dist-packages/sklearn/neural_network/_multilayer_perceptron.py:934: DataConversionWarning: A column-vector y was passed when a 1d array was expected. Please change the shape of y to (n_samples, ), for example using ravel().\n",
            "  y = column_or_1d(y, warn=True)\n",
            "/usr/local/lib/python3.6/dist-packages/sklearn/neural_network/_multilayer_perceptron.py:571: ConvergenceWarning: Stochastic Optimizer: Maximum iterations (200) reached and the optimization hasn't converged yet.\n",
            "  % self.max_iter, ConvergenceWarning)\n"
          ],
          "name": "stderr"
        },
        {
          "output_type": "stream",
          "text": [
            "{'tree': 91.66666666666666, 'knn5': 75.0, 'knn10': 66.66666666666666, 'mlp1': 36.11111111111111, 'mlp2': 38.88888888888889, 'kmeans': 50.0}\n"
          ],
          "name": "stdout"
        }
      ]
    },
    {
      "cell_type": "code",
      "metadata": {
        "id": "qXU8cl_6Y5Gd",
        "colab_type": "code",
        "outputId": "12b3a7f3-e424-4192-ecff-ea026976e54d",
        "colab": {
          "base_uri": "https://localhost:8080/",
          "height": 224
        }
      },
      "source": [
        "# BALANCE SCALE DATASET TESTS\n",
        "\n",
        "# Creating collections vars \n",
        "balance_scale_test = raw_dataset_balance_scale.sample(frac=0.2)\n",
        "balance_scale_fit = raw_dataset_balance_scale.drop(balance_scale_test.index)\n",
        "\n",
        "# Creating result vars \n",
        "balance_scale_results = {\n",
        "    'tree': 0,\n",
        "    'knn5': 0,\n",
        "    'knn10': 0,\n",
        "    'mlp1': 0,\n",
        "    'mlp2': 0,\n",
        "    'kmeans': 0\n",
        "} \n",
        "\n",
        "# X and Y vars \n",
        "balance_scale_x = balance_scale_fit[[1,2,3,4]]\n",
        "balance_scale_y = balance_scale_fit[[0]]\n",
        "\n",
        "# Binary Tree Fit and Tests \n",
        "balance_scale_tree = tree.DecisionTreeClassifier()\n",
        "balance_scale_tree.fit(balance_scale_x,balance_scale_y)\n",
        "balance_scale_tree.fit(balance_scale_x,balance_scale_y)\n",
        "balance_scale_tree.fit(balance_scale_x,balance_scale_y)\n",
        "balance_scale_tree.fit(balance_scale_x,balance_scale_y)\n",
        "balance_scale_tree.fit(balance_scale_x,balance_scale_y)\n",
        "balance_scale_test_result = balance_scale_tree.predict(balance_scale_test[[1,2,3,4]])\n",
        "\n",
        "i = 0\n",
        "acceptResult = 0\n",
        "for data in  balance_scale_test[0] :\n",
        "    if(data == balance_scale_test_result[i]):\n",
        "        acceptResult = acceptResult + 1\n",
        "    i = i+1\n",
        "\n",
        "balance_scale_results['tree']    = acceptResult/balance_scale_test_result.size * 100\n",
        "\n",
        "# KNN n=5 Fit and Tests \n",
        "balance_scale_knn5 = KNeighborsClassifier(weights='distance', n_neighbors=5)\n",
        "balance_scale_knn5.fit(balance_scale_x,balance_scale_y)\n",
        "balance_scale_test_result = balance_scale_knn5.predict(balance_scale_test[[1,2,3,4]])\n",
        "\n",
        "i = 0\n",
        "acceptResult = 0\n",
        "for data in  balance_scale_test[0] :\n",
        "    if(data == balance_scale_test_result[i]):\n",
        "        acceptResult = acceptResult + 1\n",
        "    i = i+1\n",
        "\n",
        "balance_scale_results['knn5'] = acceptResult/balance_scale_test_result.size * 100\n",
        "\n",
        "# KNN n=10 Fit and Tests \n",
        "balance_scale_knn10 = KNeighborsClassifier(weights='distance', n_neighbors=10)\n",
        "balance_scale_knn10.fit(balance_scale_x,balance_scale_y)\n",
        "balance_scale_test_result = balance_scale_knn10.predict(balance_scale_test[[1,2,3,4]])\n",
        "\n",
        "i = 0\n",
        "acceptResult = 0\n",
        "for data in  balance_scale_test[0] :\n",
        "    if(data == balance_scale_test_result[i]):\n",
        "        acceptResult = acceptResult + 1\n",
        "    i = i+1\n",
        "\n",
        "balance_scale_results['knn10'] = acceptResult/balance_scale_test_result.size * 100\n",
        "\n",
        "# MLP1 Fit and Tests\n",
        "#balance_scale_mlp1 = MLPClassifier(hidden_layer_sizes=(100,100,0), max_iter=1000, alpha=0.0001,solver='sgd', verbose=10,  random_state=21,tol=0.000000001)\n",
        "balance_scale_mlp1 = MLPClassifier(hidden_layer_sizes=(5, 2))\n",
        "balance_scale_mlp1.fit(balance_scale_x,balance_scale_y, )\n",
        "balance_scale_test_result = balance_scale_mlp1.predict(balance_scale_test[[1,2,3,4]])\n",
        "\n",
        "i = 0\n",
        "acceptResult = 0\n",
        "for data in  balance_scale_test[0] :\n",
        "    if(data == balance_scale_test_result[i]):\n",
        "        acceptResult = acceptResult + 1\n",
        "    i = i+1\n",
        "\n",
        "balance_scale_results['mlp1'] = acceptResult/balance_scale_test_result.size * 100\n",
        "\n",
        "# MLP2 Fit and Tests \n",
        "balance_scale_mlp2 = MLPClassifier(hidden_layer_sizes=(10, 5))\n",
        "balance_scale_mlp2.fit(balance_scale_x,balance_scale_y)\n",
        "balance_scale_test_result = balance_scale_mlp2.predict(balance_scale_test[[1,2,3,4]])\n",
        "\n",
        "i = 0\n",
        "acceptResult = 0\n",
        "for data in  balance_scale_test[0] :\n",
        "    if(data == balance_scale_test_result[i]):\n",
        "        acceptResult = acceptResult + 1\n",
        "    i = i+1\n",
        "\n",
        "balance_scale_results['mlp2'] = acceptResult/balance_scale_test_result.size * 100\n",
        "\n",
        "\n",
        "# Kmeans Fit and Tests \n",
        "balance_scale_km = KMeans(n_clusters=9)\n",
        "balance_scale_km.fit(balance_scale_x,balance_scale_y)\n",
        "balance_scale_test_result = balance_scale_km.predict(balance_scale_test[[1,2,3,4]])\n",
        "\n",
        "i = 0\n",
        "acceptResult = 0\n",
        "for data in  balance_scale_test[0] :\n",
        "    if(data == balance_scale_test_result[i]):\n",
        "        acceptResult = acceptResult + 1\n",
        "    i = i+1\n",
        "\n",
        "balance_scale_results['kmeans'] = acceptResult/balance_scale_test_result.size * 100\n",
        "\n",
        "x = raw_dataset_balance_scale.iloc[:, [1,2,3,4]].values\n",
        "kmeans = KMeans(n_clusters=3)#muda de acordo com as classes\n",
        "y_kmeans = kmeans.fit_predict(x)\n",
        "\n",
        "kmeans.cluster_centers_\n",
        "\n",
        "ErrorBalanceScaleKm =[]\n",
        "for i in range(1, 11):\n",
        "    kmeans = KMeans(n_clusters = i).fit(x)\n",
        "    kmeans.fit(x)\n",
        "    ErrorBalanceScaleKm.append(kmeans.inertia_)\n",
        "\n",
        "\n",
        "\n",
        "print(balance_scale_results)"
      ],
      "execution_count": 59,
      "outputs": [
        {
          "output_type": "stream",
          "text": [
            "/usr/local/lib/python3.6/dist-packages/ipykernel_launcher.py:38: DataConversionWarning: A column-vector y was passed when a 1d array was expected. Please change the shape of y to (n_samples, ), for example using ravel().\n",
            "/usr/local/lib/python3.6/dist-packages/ipykernel_launcher.py:52: DataConversionWarning: A column-vector y was passed when a 1d array was expected. Please change the shape of y to (n_samples, ), for example using ravel().\n",
            "/usr/local/lib/python3.6/dist-packages/sklearn/neural_network/_multilayer_perceptron.py:934: DataConversionWarning: A column-vector y was passed when a 1d array was expected. Please change the shape of y to (n_samples, ), for example using ravel().\n",
            "  y = column_or_1d(y, warn=True)\n",
            "/usr/local/lib/python3.6/dist-packages/sklearn/neural_network/_multilayer_perceptron.py:571: ConvergenceWarning: Stochastic Optimizer: Maximum iterations (200) reached and the optimization hasn't converged yet.\n",
            "  % self.max_iter, ConvergenceWarning)\n",
            "/usr/local/lib/python3.6/dist-packages/sklearn/neural_network/_multilayer_perceptron.py:934: DataConversionWarning: A column-vector y was passed when a 1d array was expected. Please change the shape of y to (n_samples, ), for example using ravel().\n",
            "  y = column_or_1d(y, warn=True)\n",
            "/usr/local/lib/python3.6/dist-packages/sklearn/neural_network/_multilayer_perceptron.py:571: ConvergenceWarning: Stochastic Optimizer: Maximum iterations (200) reached and the optimization hasn't converged yet.\n",
            "  % self.max_iter, ConvergenceWarning)\n"
          ],
          "name": "stderr"
        },
        {
          "output_type": "stream",
          "text": [
            "{'tree': 85.6, 'knn5': 88.0, 'knn10': 93.60000000000001, 'mlp1': 51.2, 'mlp2': 96.0, 'kmeans': 0.0}\n"
          ],
          "name": "stdout"
        }
      ]
    },
    {
      "cell_type": "code",
      "metadata": {
        "id": "nyz8SJoMhGYk",
        "colab_type": "code",
        "outputId": "1e659b18-30f6-4d24-d698-ff8819a9ecba",
        "colab": {
          "base_uri": "https://localhost:8080/",
          "height": 224
        }
      },
      "source": [
        "# ABALONE SCALE DATASET TESTS\n",
        "\n",
        "# Creating collections vars \n",
        "abalone_test = raw_dataset_abalone.sample(frac=0.2)\n",
        "abalone_fit = raw_dataset_abalone.drop(abalone_test.index)\n",
        "\n",
        "# Creating result vars \n",
        "abalone_results = {\n",
        "    'tree': 0,\n",
        "    'knn5': 0,\n",
        "    'knn10': 0,\n",
        "    'mlp1': 0,\n",
        "    'mlp2': 0,\n",
        "    'kmeans': 0\n",
        "} \n",
        "\n",
        "# X and Y vars \n",
        "abalone_x = abalone_fit[[1,2,3,4,5,6,7,8]]\n",
        "abalone_y = abalone_fit[[0]]\n",
        "\n",
        "# Binary Tree Fit and Tests \n",
        "abalone_tree = tree.DecisionTreeClassifier()\n",
        "abalone_tree.fit(abalone_x,abalone_y)\n",
        "abalone_tree.fit(abalone_x,abalone_y)\n",
        "abalone_tree.fit(abalone_x,abalone_y)\n",
        "abalone_tree.fit(abalone_x,abalone_y)\n",
        "abalone_tree.fit(abalone_x,abalone_y)\n",
        "abalone_test_result = abalone_tree.predict(abalone_test[[1,2,3,4,5,6,7,8]])\n",
        "\n",
        "i = 0\n",
        "acceptResult = 0\n",
        "for data in  abalone_test[0] :\n",
        "    if(data == abalone_test_result[i]):\n",
        "        acceptResult = acceptResult + 1\n",
        "    i = i+1\n",
        "\n",
        "abalone_results['tree']    = acceptResult/abalone_test_result.size * 100\n",
        "\n",
        "# KNN n=5 Fit and Tests \n",
        "abalone_knn5 = KNeighborsClassifier(weights='distance', n_neighbors=5)\n",
        "abalone_knn5.fit(abalone_x,abalone_y)\n",
        "abalone_test_result = abalone_knn5.predict(abalone_test[[1,2,3,4,5,6,7,8]])\n",
        "\n",
        "i = 0\n",
        "acceptResult = 0\n",
        "for data in  abalone_test[0] :\n",
        "    if(data == abalone_test_result[i]):\n",
        "        acceptResult = acceptResult + 1\n",
        "    i = i+1\n",
        "\n",
        "abalone_results['knn5'] = acceptResult/abalone_test_result.size * 100\n",
        "\n",
        "# KNN n=10 Fit and Tests \n",
        "abalone_knn10 = KNeighborsClassifier(weights='distance', n_neighbors=10)\n",
        "abalone_knn10.fit(abalone_x,abalone_y)\n",
        "abalone_test_result = abalone_knn10.predict(abalone_test[[1,2,3,4,5,6,7,8]])\n",
        "\n",
        "i = 0\n",
        "acceptResult = 0\n",
        "for data in  abalone_test[0] :\n",
        "    if(data == abalone_test_result[i]):\n",
        "        acceptResult = acceptResult + 1\n",
        "    i = i+1\n",
        "\n",
        "abalone_results['knn10'] = acceptResult/abalone_test_result.size * 100\n",
        "\n",
        "# MLP1 Fit and Tests\n",
        "#abalone_mlp1 = MLPClassifier(hidden_layer_sizes=(100,100,0), max_iter=1000, alpha=0.0001,solver='sgd', verbose=10,  random_state=21,tol=0.000000001)\n",
        "abalone_mlp1 = MLPClassifier(hidden_layer_sizes=(5, 2))\n",
        "abalone_mlp1.fit(abalone_x,abalone_y, )\n",
        "abalone_test_result = abalone_mlp1.predict(abalone_test[[1,2,3,4,5,6,7,8]])\n",
        "\n",
        "i = 0\n",
        "acceptResult = 0\n",
        "for data in  abalone_test[0] :\n",
        "    if(data == abalone_test_result[i]):\n",
        "        acceptResult = acceptResult + 1\n",
        "    i = i+1\n",
        "\n",
        "abalone_results['mlp1'] = acceptResult/abalone_test_result.size * 100\n",
        "\n",
        "# MLP2 Fit and Tests \n",
        "abalone_mlp2 = MLPClassifier(hidden_layer_sizes=(10, 5))\n",
        "abalone_mlp2.fit(abalone_x,abalone_y)\n",
        "abalone_test_result = abalone_mlp2.predict(abalone_test[[1,2,3,4,5,6,7,8]])\n",
        "\n",
        "i = 0\n",
        "acceptResult = 0\n",
        "for data in  abalone_test[0] :\n",
        "    if(data == abalone_test_result[i]):\n",
        "        acceptResult = acceptResult + 1\n",
        "    i = i+1\n",
        "\n",
        "abalone_results['mlp2'] = acceptResult/abalone_test_result.size * 100\n",
        "\n",
        "\n",
        "# Kmeans Fit and Tests \n",
        "abalone_km = KMeans(n_clusters=3)\n",
        "abalone_km.fit(abalone_x,abalone_y)\n",
        "abalone_test_result = abalone_km.predict(abalone_test[[1,2,3,4,5,6,7,8]])\n",
        "\n",
        "i = 0\n",
        "acceptResult = 0\n",
        "for data in  abalone_test[0] :\n",
        "    if(data == abalone_test_result[i]):\n",
        "        acceptResult = acceptResult + 1\n",
        "    i = i+1\n",
        "\n",
        "abalone_results['kmeans'] = acceptResult/abalone_test_result.size * 100\n",
        "\n",
        "x = raw_dataset_abalone.iloc[:, [1,2,3,4,5,6,7,8]].values\n",
        "kmeans = KMeans(n_clusters=3)#muda de acordo com as classes\n",
        "y_kmeans = kmeans.fit_predict(x)\n",
        "\n",
        "kmeans.cluster_centers_\n",
        "\n",
        "ErrorAbaloneKm =[]\n",
        "for i in range(1, 11):\n",
        "    kmeans = KMeans(n_clusters = i).fit(x)\n",
        "    kmeans.fit(x)\n",
        "    ErrorAbaloneKm.append(kmeans.inertia_)\n",
        "\n",
        "print(abalone_results)\n"
      ],
      "execution_count": 60,
      "outputs": [
        {
          "output_type": "stream",
          "text": [
            "/usr/local/lib/python3.6/dist-packages/ipykernel_launcher.py:38: DataConversionWarning: A column-vector y was passed when a 1d array was expected. Please change the shape of y to (n_samples, ), for example using ravel().\n",
            "/usr/local/lib/python3.6/dist-packages/ipykernel_launcher.py:52: DataConversionWarning: A column-vector y was passed when a 1d array was expected. Please change the shape of y to (n_samples, ), for example using ravel().\n",
            "/usr/local/lib/python3.6/dist-packages/sklearn/neural_network/_multilayer_perceptron.py:934: DataConversionWarning: A column-vector y was passed when a 1d array was expected. Please change the shape of y to (n_samples, ), for example using ravel().\n",
            "  y = column_or_1d(y, warn=True)\n",
            "/usr/local/lib/python3.6/dist-packages/sklearn/neural_network/_multilayer_perceptron.py:571: ConvergenceWarning: Stochastic Optimizer: Maximum iterations (200) reached and the optimization hasn't converged yet.\n",
            "  % self.max_iter, ConvergenceWarning)\n",
            "/usr/local/lib/python3.6/dist-packages/sklearn/neural_network/_multilayer_perceptron.py:934: DataConversionWarning: A column-vector y was passed when a 1d array was expected. Please change the shape of y to (n_samples, ), for example using ravel().\n",
            "  y = column_or_1d(y, warn=True)\n",
            "/usr/local/lib/python3.6/dist-packages/sklearn/neural_network/_multilayer_perceptron.py:571: ConvergenceWarning: Stochastic Optimizer: Maximum iterations (200) reached and the optimization hasn't converged yet.\n",
            "  % self.max_iter, ConvergenceWarning)\n"
          ],
          "name": "stderr"
        },
        {
          "output_type": "stream",
          "text": [
            "{'tree': 48.74251497005988, 'knn5': 55.688622754491014, 'knn10': 56.287425149700596, 'mlp1': 54.49101796407185, 'mlp2': 54.37125748502994, 'kmeans': 0.0}\n"
          ],
          "name": "stdout"
        }
      ]
    },
    {
      "cell_type": "markdown",
      "metadata": {
        "id": "vmHUZVTOunil",
        "colab_type": "text"
      },
      "source": [
        "# **Relatório de desempenho dos algoritimos**\n",
        "\n",
        "## **Wine**\n",
        "\n",
        "##### **Resultados Algoritmos**"
      ]
    },
    {
      "cell_type": "code",
      "metadata": {
        "id": "iSBUg-RVu_TW",
        "colab_type": "code",
        "outputId": "a40bf313-b522-4a4c-bf6c-846ae1fb6a47",
        "colab": {
          "base_uri": "https://localhost:8080/",
          "height": 235
        }
      },
      "source": [
        "\n",
        "pd.DataFrame.from_dict(wine_results, orient='index')"
      ],
      "execution_count": 61,
      "outputs": [
        {
          "output_type": "execute_result",
          "data": {
            "text/html": [
              "<div>\n",
              "<style scoped>\n",
              "    .dataframe tbody tr th:only-of-type {\n",
              "        vertical-align: middle;\n",
              "    }\n",
              "\n",
              "    .dataframe tbody tr th {\n",
              "        vertical-align: top;\n",
              "    }\n",
              "\n",
              "    .dataframe thead th {\n",
              "        text-align: right;\n",
              "    }\n",
              "</style>\n",
              "<table border=\"1\" class=\"dataframe\">\n",
              "  <thead>\n",
              "    <tr style=\"text-align: right;\">\n",
              "      <th></th>\n",
              "      <th>0</th>\n",
              "    </tr>\n",
              "  </thead>\n",
              "  <tbody>\n",
              "    <tr>\n",
              "      <th>tree</th>\n",
              "      <td>91.666667</td>\n",
              "    </tr>\n",
              "    <tr>\n",
              "      <th>knn5</th>\n",
              "      <td>75.000000</td>\n",
              "    </tr>\n",
              "    <tr>\n",
              "      <th>knn10</th>\n",
              "      <td>66.666667</td>\n",
              "    </tr>\n",
              "    <tr>\n",
              "      <th>mlp1</th>\n",
              "      <td>36.111111</td>\n",
              "    </tr>\n",
              "    <tr>\n",
              "      <th>mlp2</th>\n",
              "      <td>38.888889</td>\n",
              "    </tr>\n",
              "    <tr>\n",
              "      <th>kmeans</th>\n",
              "      <td>50.000000</td>\n",
              "    </tr>\n",
              "  </tbody>\n",
              "</table>\n",
              "</div>"
            ],
            "text/plain": [
              "                0\n",
              "tree    91.666667\n",
              "knn5    75.000000\n",
              "knn10   66.666667\n",
              "mlp1    36.111111\n",
              "mlp2    38.888889\n",
              "kmeans  50.000000"
            ]
          },
          "metadata": {
            "tags": []
          },
          "execution_count": 61
        }
      ]
    },
    {
      "cell_type": "markdown",
      "metadata": {
        "id": "g0HbztAIyAH9",
        "colab_type": "text"
      },
      "source": [
        "##### **Curva de taxa de erro em iterações da MLP1**"
      ]
    },
    {
      "cell_type": "code",
      "metadata": {
        "id": "vwC418MByovb",
        "colab_type": "code",
        "outputId": "c776d2ec-5dc6-4e33-d036-6511eafc4719",
        "colab": {
          "base_uri": "https://localhost:8080/",
          "height": 312
        }
      },
      "source": [
        "plt.ylabel('Custo')\n",
        "plt.xlabel('Iteração')\n",
        "plt.title(\"Learning rate =\" + str(0.001))\n",
        "plt.plot(wine_mlp1.loss_curve_)"
      ],
      "execution_count": 62,
      "outputs": [
        {
          "output_type": "execute_result",
          "data": {
            "text/plain": [
              "[<matplotlib.lines.Line2D at 0x7f15be0c62e8>]"
            ]
          },
          "metadata": {
            "tags": []
          },
          "execution_count": 62
        },
        {
          "output_type": "display_data",
          "data": {
            "image/png": "[encoded data removed]",
            "text/plain": [
              "<Figure size 432x288 with 1 Axes>"
            ]
          },
          "metadata": {
            "tags": []
          }
        }
      ]
    },
    {
      "cell_type": "markdown",
      "metadata": {
        "id": "D351yL7wHP0l",
        "colab_type": "text"
      },
      "source": [
        "##### **Curva de taxa de erro em iterações da MLP2**"
      ]
    },
    {
      "cell_type": "code",
      "metadata": {
        "id": "f0K_eV6-HXGZ",
        "colab_type": "code",
        "outputId": "ff486768-9c46-4279-ba50-03533573f8cf",
        "colab": {
          "base_uri": "https://localhost:8080/",
          "height": 312
        }
      },
      "source": [
        "plt.ylabel('Custo')\n",
        "plt.xlabel('Iteração')\n",
        "plt.title(\"Learning rate =\" + str(0.001))\n",
        "plt.plot(wine_mlp2.loss_curve_)"
      ],
      "execution_count": 63,
      "outputs": [
        {
          "output_type": "execute_result",
          "data": {
            "text/plain": [
              "[<matplotlib.lines.Line2D at 0x7f15be0e3198>]"
            ]
          },
          "metadata": {
            "tags": []
          },
          "execution_count": 63
        },
        {
          "output_type": "display_data",
          "data": {
            "image/png": "[encoded data removed]",
            "text/plain": [
              "<Figure size 432x288 with 1 Axes>"
            ]
          },
          "metadata": {
            "tags": []
          }
        }
      ]
    },
    {
      "cell_type": "markdown",
      "metadata": {
        "id": "3w85N2_326VI",
        "colab_type": "text"
      },
      "source": [
        "##### **Curva de taxa de erro em iterações K-means**"
      ]
    },
    {
      "cell_type": "code",
      "metadata": {
        "id": "3Z8DIsK-IBdl",
        "colab_type": "code",
        "outputId": "9dff794a-95eb-4a12-d531-d6652d24b435",
        "colab": {
          "base_uri": "https://localhost:8080/",
          "height": 295
        }
      },
      "source": [
        "\n",
        "\n",
        "plt.plot(range(1,len(wine_test[0])), ErrorWineKm)\n",
        "plt.title('Elbow method')\n",
        "plt.xlabel('No of clusters')\n",
        "plt.ylabel('Error')\n",
        "plt.show()"
      ],
      "execution_count": 64,
      "outputs": [
        {
          "output_type": "display_data",
          "data": {
            "image/png": "[encoded data removed]",
            "text/plain": [
              "<Figure size 432x288 with 1 Axes>"
            ]
          },
          "metadata": {
            "tags": []
          }
        }
      ]
    },
    {
      "cell_type": "markdown",
      "metadata": {
        "id": "VJJEY2pnvpJ3",
        "colab_type": "text"
      },
      "source": [
        "## **Balance Scale**"
      ]
    },
    {
      "cell_type": "code",
      "metadata": {
        "id": "xruta6Egvyn7",
        "colab_type": "code",
        "outputId": "610809e1-9661-4dcf-e932-9cfacc0c8f88",
        "colab": {
          "base_uri": "https://localhost:8080/",
          "height": 235
        }
      },
      "source": [
        "pd.DataFrame.from_dict(balance_scale_results, orient='index')"
      ],
      "execution_count": 65,
      "outputs": [
        {
          "output_type": "execute_result",
          "data": {
            "text/html": [
              "<div>\n",
              "<style scoped>\n",
              "    .dataframe tbody tr th:only-of-type {\n",
              "        vertical-align: middle;\n",
              "    }\n",
              "\n",
              "    .dataframe tbody tr th {\n",
              "        vertical-align: top;\n",
              "    }\n",
              "\n",
              "    .dataframe thead th {\n",
              "        text-align: right;\n",
              "    }\n",
              "</style>\n",
              "<table border=\"1\" class=\"dataframe\">\n",
              "  <thead>\n",
              "    <tr style=\"text-align: right;\">\n",
              "      <th></th>\n",
              "      <th>0</th>\n",
              "    </tr>\n",
              "  </thead>\n",
              "  <tbody>\n",
              "    <tr>\n",
              "      <th>tree</th>\n",
              "      <td>85.6</td>\n",
              "    </tr>\n",
              "    <tr>\n",
              "      <th>knn5</th>\n",
              "      <td>88.0</td>\n",
              "    </tr>\n",
              "    <tr>\n",
              "      <th>knn10</th>\n",
              "      <td>93.6</td>\n",
              "    </tr>\n",
              "    <tr>\n",
              "      <th>mlp1</th>\n",
              "      <td>51.2</td>\n",
              "    </tr>\n",
              "    <tr>\n",
              "      <th>mlp2</th>\n",
              "      <td>96.0</td>\n",
              "    </tr>\n",
              "    <tr>\n",
              "      <th>kmeans</th>\n",
              "      <td>0.0</td>\n",
              "    </tr>\n",
              "  </tbody>\n",
              "</table>\n",
              "</div>"
            ],
            "text/plain": [
              "           0\n",
              "tree    85.6\n",
              "knn5    88.0\n",
              "knn10   93.6\n",
              "mlp1    51.2\n",
              "mlp2    96.0\n",
              "kmeans   0.0"
            ]
          },
          "metadata": {
            "tags": []
          },
          "execution_count": 65
        }
      ]
    },
    {
      "cell_type": "markdown",
      "metadata": {
        "id": "gdVz2VzDEU04",
        "colab_type": "text"
      },
      "source": [
        "##### **Curva de taxa de erro em iterações da MLP1**"
      ]
    },
    {
      "cell_type": "code",
      "metadata": {
        "id": "iyVuVAkyEWsR",
        "colab_type": "code",
        "outputId": "0f9e01d6-16fe-49c2-fa5f-17b46ff56f11",
        "colab": {
          "base_uri": "https://localhost:8080/",
          "height": 312
        }
      },
      "source": [
        "plt.ylabel('Custo')\n",
        "plt.xlabel('Iteração')\n",
        "plt.title(\"Learning rate =\" + str(0.001))\n",
        "plt.plot(balance_scale_mlp1.loss_curve_)"
      ],
      "execution_count": 66,
      "outputs": [
        {
          "output_type": "execute_result",
          "data": {
            "text/plain": [
              "[<matplotlib.lines.Line2D at 0x7f15be341f28>]"
            ]
          },
          "metadata": {
            "tags": []
          },
          "execution_count": 66
        },
        {
          "output_type": "display_data",
          "data": {
            "image/png": "[encoded data removed]",
            "text/plain": [
              "<Figure size 432x288 with 1 Axes>"
            ]
          },
          "metadata": {
            "tags": []
          }
        }
      ]
    },
    {
      "cell_type": "markdown",
      "metadata": {
        "id": "_GSZORoaGvUI",
        "colab_type": "text"
      },
      "source": [
        "##### **Curva de taxa de erro em iterações da MLP2**"
      ]
    },
    {
      "cell_type": "code",
      "metadata": {
        "id": "9i66Sz4rG2eX",
        "colab_type": "code",
        "outputId": "4321013c-a8ff-4ac0-a9c6-262abceb8b40",
        "colab": {
          "base_uri": "https://localhost:8080/",
          "height": 312
        }
      },
      "source": [
        "plt.ylabel('Custo')\n",
        "plt.xlabel('Iteração')\n",
        "plt.title(\"Learning rate =\" + str(0.001))\n",
        "plt.plot(balance_scale_mlp2.loss_curve_)"
      ],
      "execution_count": 67,
      "outputs": [
        {
          "output_type": "execute_result",
          "data": {
            "text/plain": [
              "[<matplotlib.lines.Line2D at 0x7f15be4416d8>]"
            ]
          },
          "metadata": {
            "tags": []
          },
          "execution_count": 67
        },
        {
          "output_type": "display_data",
          "data": {
            "image/png": "[encoded data removed]",
            "text/plain": [
              "<Figure size 432x288 with 1 Axes>"
            ]
          },
          "metadata": {
            "tags": []
          }
        }
      ]
    },
    {
      "cell_type": "markdown",
      "metadata": {
        "id": "dJbb-ITkHxEe",
        "colab_type": "text"
      },
      "source": [
        "##### **Curva de taxa de erro em iterações K-means**"
      ]
    },
    {
      "cell_type": "code",
      "metadata": {
        "id": "GxuZ0bErWs7D",
        "colab_type": "code",
        "colab": {
          "base_uri": "https://localhost:8080/",
          "height": 295
        },
        "outputId": "a45a894f-020d-4d59-89bb-f86678e19b26"
      },
      "source": [
        "plt.plot(range(1,11), ErrorBalanceScaleKm)\n",
        "plt.title('Elbow method')\n",
        "plt.xlabel('No of clusters')\n",
        "plt.ylabel('Error')\n",
        "plt.show()"
      ],
      "execution_count": 68,
      "outputs": [
        {
          "output_type": "display_data",
          "data": {
            "image/png": "[encoded data removed]",
            "text/plain": [
              "<Figure size 432x288 with 1 Axes>"
            ]
          },
          "metadata": {
            "tags": []
          }
        }
      ]
    },
    {
      "cell_type": "markdown",
      "metadata": {
        "id": "J8JnFRmrxEQn",
        "colab_type": "text"
      },
      "source": [
        "## **Abalone**"
      ]
    },
    {
      "cell_type": "code",
      "metadata": {
        "id": "72QoKz24xMht",
        "colab_type": "code",
        "outputId": "88c2609b-d4f2-45a2-e5eb-a8f6b1da0435",
        "colab": {
          "base_uri": "https://localhost:8080/",
          "height": 235
        }
      },
      "source": [
        "pd.DataFrame.from_dict(abalone_results, orient='index')"
      ],
      "execution_count": 69,
      "outputs": [
        {
          "output_type": "execute_result",
          "data": {
            "text/html": [
              "<div>\n",
              "<style scoped>\n",
              "    .dataframe tbody tr th:only-of-type {\n",
              "        vertical-align: middle;\n",
              "    }\n",
              "\n",
              "    .dataframe tbody tr th {\n",
              "        vertical-align: top;\n",
              "    }\n",
              "\n",
              "    .dataframe thead th {\n",
              "        text-align: right;\n",
              "    }\n",
              "</style>\n",
              "<table border=\"1\" class=\"dataframe\">\n",
              "  <thead>\n",
              "    <tr style=\"text-align: right;\">\n",
              "      <th></th>\n",
              "      <th>0</th>\n",
              "    </tr>\n",
              "  </thead>\n",
              "  <tbody>\n",
              "    <tr>\n",
              "      <th>tree</th>\n",
              "      <td>48.742515</td>\n",
              "    </tr>\n",
              "    <tr>\n",
              "      <th>knn5</th>\n",
              "      <td>55.688623</td>\n",
              "    </tr>\n",
              "    <tr>\n",
              "      <th>knn10</th>\n",
              "      <td>56.287425</td>\n",
              "    </tr>\n",
              "    <tr>\n",
              "      <th>mlp1</th>\n",
              "      <td>54.491018</td>\n",
              "    </tr>\n",
              "    <tr>\n",
              "      <th>mlp2</th>\n",
              "      <td>54.371257</td>\n",
              "    </tr>\n",
              "    <tr>\n",
              "      <th>kmeans</th>\n",
              "      <td>0.000000</td>\n",
              "    </tr>\n",
              "  </tbody>\n",
              "</table>\n",
              "</div>"
            ],
            "text/plain": [
              "                0\n",
              "tree    48.742515\n",
              "knn5    55.688623\n",
              "knn10   56.287425\n",
              "mlp1    54.491018\n",
              "mlp2    54.371257\n",
              "kmeans   0.000000"
            ]
          },
          "metadata": {
            "tags": []
          },
          "execution_count": 69
        }
      ]
    },
    {
      "cell_type": "markdown",
      "metadata": {
        "id": "DrT_0dgcFJZm",
        "colab_type": "text"
      },
      "source": [
        "##### **Curva de taxa de erro em iterações da MLP1**"
      ]
    },
    {
      "cell_type": "code",
      "metadata": {
        "id": "GjO5s4t8FLK_",
        "colab_type": "code",
        "outputId": "c4bcbb3e-c9d4-4377-aa95-037c29e20f7c",
        "colab": {
          "base_uri": "https://localhost:8080/",
          "height": 312
        }
      },
      "source": [
        "plt.ylabel('Custo')\n",
        "plt.xlabel('Iteração')\n",
        "plt.title(\"Learning rate =\" + str(0.001))\n",
        "plt.plot(abalone_mlp1.loss_curve_)"
      ],
      "execution_count": 70,
      "outputs": [
        {
          "output_type": "execute_result",
          "data": {
            "text/plain": [
              "[<matplotlib.lines.Line2D at 0x7f15d13287b8>]"
            ]
          },
          "metadata": {
            "tags": []
          },
          "execution_count": 70
        },
        {
          "output_type": "display_data",
          "data": {
            "image/png": "[encoded data removed]",
            "text/plain": [
              "<Figure size 432x288 with 1 Axes>"
            ]
          },
          "metadata": {
            "tags": []
          }
        }
      ]
    },
    {
      "cell_type": "markdown",
      "metadata": {
        "id": "y9yAa0ykGKXs",
        "colab_type": "text"
      },
      "source": [
        "##### **Curva de taxa de erro em iterações da MLP2**\n"
      ]
    },
    {
      "cell_type": "code",
      "metadata": {
        "id": "-KcpAbLQGSHA",
        "colab_type": "code",
        "outputId": "8a0be87c-914f-4075-d29b-5697f4cbe9f8",
        "colab": {
          "base_uri": "https://localhost:8080/",
          "height": 312
        }
      },
      "source": [
        "plt.ylabel('Custo')\n",
        "plt.xlabel('Iteração')\n",
        "plt.title(\"Learning rate =\" + str(0.001))\n",
        "plt.plot(abalone_mlp2.loss_curve_)"
      ],
      "execution_count": 71,
      "outputs": [
        {
          "output_type": "execute_result",
          "data": {
            "text/plain": [
              "[<matplotlib.lines.Line2D at 0x7f15be5940b8>]"
            ]
          },
          "metadata": {
            "tags": []
          },
          "execution_count": 71
        },
        {
          "output_type": "display_data",
          "data": {
            "image/png": "[encoded data removed]",
            "text/plain": [
              "<Figure size 432x288 with 1 Axes>"
            ]
          },
          "metadata": {
            "tags": []
          }
        }
      ]
    },
    {
      "cell_type": "markdown",
      "metadata": {
        "id": "TMIuhklOH0wW",
        "colab_type": "text"
      },
      "source": [
        "##### **Curva de taxa de erro em iterações K-means**"
      ]
    },
    {
      "cell_type": "code",
      "metadata": {
        "id": "OoHs2W89cj6R",
        "colab_type": "code",
        "colab": {
          "base_uri": "https://localhost:8080/",
          "height": 295
        },
        "outputId": "89bec48d-5754-43ad-f442-f0ad00e09039"
      },
      "source": [
        "plt.plot(range(1,11), ErrorAbaloneKm)\n",
        "plt.title('Elbow method')\n",
        "plt.xlabel('No of clusters')\n",
        "plt.ylabel('Error')\n",
        "plt.show()"
      ],
      "execution_count": 72,
      "outputs": [
        {
          "output_type": "display_data",
          "data": {
            "image/png": "[encoded data removed]",
            "text/plain": [
              "<Figure size 432x288 with 1 Axes>"
            ]
          },
          "metadata": {
            "tags": []
          }
        }
      ]
    }
  ]
}