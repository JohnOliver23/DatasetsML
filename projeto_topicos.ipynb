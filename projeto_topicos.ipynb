{
  "nbformat": 4,
  "nbformat_minor": 0,
  "metadata": {
    "colab": {
      "name": "projeto_topicos.ipynb",
      "provenance": [],
      "authorship_tag": "ABX9TyOCvtO3XJP5kIcfQ+Lbd4q3",
      "include_colab_link": true
    },
    "kernelspec": {
      "name": "python3",
      "display_name": "Python 3"
    }
  },
  "cells": [
    {
      "cell_type": "markdown",
      "metadata": {
        "id": "view-in-github",
        "colab_type": "text"
      },
      "source": [
        "<a href=\"https://colab.research.google.com/github/JohnOliver23/DatasetsML/blob/master/projeto_topicos.ipynb\" target=\"_parent\"><img src=\"https://colab.research.google.com/assets/colab-badge.svg\" alt=\"Open In Colab\"/></a>"
      ]
    },
    {
      "cell_type": "code",
      "metadata": {
        "id": "jwqXl0VGJrhU",
        "colab_type": "code",
        "colab": {}
      },
      "source": [
        "from sklearn import tree\n",
        "from sklearn.neighbors import KNeighborsClassifier\n",
        "from sklearn.neural_network import MLPClassifier\n",
        "from sklearn.cluster import KMeans\n",
        "import pandas\n",
        "from sklearn import tree\n",
        "from sklearn import preprocessing\n",
        "from IPython.display import Markdown as md\n",
        "import matplotlib.pyplot as plt\n",
        "\n",
        "raw_dataset_wine = pandas.read_csv( \"https://raw.githubusercontent.com/kmlporto/machinelearning/master/database/wine.data\" ,  delimiter=\",\",header=None, encoding=\"utf-8-sig\") \n",
        "raw_dataset_balance_scale = pandas.read_csv( \"https://raw.githubusercontent.com/JohnOliver23/DatasetsML/master/database/balance-scale.data\" ,  delimiter=\",\",header=None, encoding=\"utf-8-sig\") \n",
        "raw_dataset_abalone = pandas.read_csv( \"https://raw.githubusercontent.com/JohnOliver23/DatasetsML/master/database/abalone.data\" ,  delimiter=\",\",header=None, encoding=\"utf-8-sig\")"
      ],
      "execution_count": 0,
      "outputs": []
    },
    {
      "cell_type": "code",
      "metadata": {
        "id": "y9S6hz_fKsXL",
        "colab_type": "code",
        "colab": {
          "base_uri": "https://localhost:8080/",
          "height": 309
        },
        "outputId": "d8fb58e0-6f84-4fe0-9362-6b1c399b0c9f"
      },
      "source": [
        "# WINE DATASET TESTS\n",
        "\n",
        "# Creating collections vars \n",
        "wine_test = raw_dataset_wine.sample(frac=0.2)\n",
        "wine_fit = raw_dataset_wine.drop(wine_test.index)\n",
        "\n",
        "# Creating result vars \n",
        "wine_results = {\n",
        "    'tree': 0,\n",
        "    'knn5': 0,\n",
        "    'knn10': 0,\n",
        "    'mlp1': 0,\n",
        "    'mlp2': 0,\n",
        "    'kmeans': 0\n",
        "} \n",
        "\n",
        "# X and Y vars \n",
        "wine_x = wine_fit[[1,2,3,4,5,6,7,8,9,10,11,12,13]]\n",
        "wine_y = wine_fit[[0]]\n",
        "\n",
        "# Binary Tree Fit and Tests \n",
        "wine_tree = tree.DecisionTreeClassifier()\n",
        "wine_tree.fit(wine_x,wine_y)\n",
        "wine_tree.fit(wine_x,wine_y)\n",
        "wine_tree.fit(wine_x,wine_y)\n",
        "wine_tree.fit(wine_x,wine_y)\n",
        "wine_tree.fit(wine_x,wine_y)\n",
        "wine_test_result = wine_tree.predict(wine_test[[1,2,3,4,5,6,7,8,9,10,11,12,13]])\n",
        "\n",
        "i = 0\n",
        "acceptResult = 0\n",
        "for data in  wine_test[0] :\n",
        "    if(data == wine_test_result[i]):\n",
        "        acceptResult = acceptResult + 1\n",
        "    i = i+1\n",
        "\n",
        "wine_results['tree']    = acceptResult/wine_test_result.size * 100\n",
        "\n",
        "# KNN n=5 Fit and Tests \n",
        "wine_knn5 = KNeighborsClassifier(weights='distance', n_neighbors=5)\n",
        "wine_knn5.fit(wine_x,wine_y)\n",
        "wine_test_result = wine_knn5.predict(wine_test[[1,2,3,4,5,6,7,8,9,10,11,12,13]])\n",
        "\n",
        "i = 0\n",
        "acceptResult = 0\n",
        "for data in  wine_test[0] :\n",
        "    if(data == wine_test_result[i]):\n",
        "        acceptResult = acceptResult + 1\n",
        "    i = i+1\n",
        "\n",
        "wine_results['knn5'] = acceptResult/wine_test_result.size * 100\n",
        "\n",
        "# KNN n=10 Fit and Tests \n",
        "wine_knn10 = KNeighborsClassifier(weights='distance', n_neighbors=10)\n",
        "wine_knn10.fit(wine_x,wine_y)\n",
        "wine_test_result = wine_knn10.predict(wine_test[[1,2,3,4,5,6,7,8,9,10,11,12,13]])\n",
        "\n",
        "i = 0\n",
        "acceptResult = 0\n",
        "for data in  wine_test[0] :\n",
        "    if(data == wine_test_result[i]):\n",
        "        acceptResult = acceptResult + 1\n",
        "    i = i+1\n",
        "\n",
        "wine_results['knn10'] = acceptResult/wine_test_result.size * 100\n",
        "\n",
        "# MLP1 Fit and Tests\n",
        "#wine_mlp1 = MLPClassifier(hidden_layer_sizes=(100,100,0), max_iter=1000, alpha=0.0001,solver='sgd', verbose=10,  random_state=21,tol=0.000000001)\n",
        "wine_mlp1 = MLPClassifier(hidden_layer_sizes=(5, 2))\n",
        "wine_mlp1.fit(wine_x,wine_y, )\n",
        "wine_test_result = wine_mlp1.predict(wine_test[[1,2,3,4,5,6,7,8,9,10,11,12,13]])\n",
        "\n",
        "i = 0\n",
        "acceptResult = 0\n",
        "for data in  wine_test[0] :\n",
        "    if(data == wine_test_result[i]):\n",
        "        acceptResult = acceptResult + 1\n",
        "    i = i+1\n",
        "\n",
        "wine_results['mlp1'] = acceptResult/wine_test_result.size * 100\n",
        "\n",
        "\n",
        "\n",
        "# MLP2 Fit and Tests \n",
        "wine_mlp2 = MLPClassifier(hidden_layer_sizes=(10, 5))\n",
        "wine_mlp2.fit(wine_x,wine_y)\n",
        "wine_test_result = wine_mlp2.predict(wine_test[[1,2,3,4,5,6,7,8,9,10,11,12,13]])\n",
        "\n",
        "i = 0\n",
        "acceptResult = 0\n",
        "for data in  wine_test[0] :\n",
        "    if(data == wine_test_result[i]):\n",
        "        acceptResult = acceptResult + 1\n",
        "    i = i+1\n",
        "\n",
        "wine_results['mlp2'] = acceptResult/wine_test_result.size * 100\n",
        "\n",
        "\n",
        "# Kmeans Fit and Tests \n",
        "wine_km = KMeans(n_clusters=3)\n",
        "wine_km.fit(wine_x,wine_y)\n",
        "wine_test_result = wine_km.predict(wine_test[[1,2,3,4,5,6,7,8,9,10,11,12,13]])\n",
        "\n",
        "i = 0\n",
        "acceptResult = 0\n",
        "for data in  wine_test[0] :\n",
        "    if(data == wine_test_result[i]):\n",
        "        acceptResult = acceptResult + 1\n",
        "    i = i+1\n",
        "\n",
        "wine_results['kmeans'] = acceptResult/wine_test_result.size * 100\n",
        "\n",
        "x = raw_dataset_wine.iloc[:, [1,2,3,4,5,6,7,8,9,10,11,12,13]].values\n",
        "kmeans = KMeans(n_clusters=3)#muda de acordo com as classes\n",
        "y_kmeans = kmeans.fit_predict(x)\n",
        "print(y_kmeans)\n",
        "\n",
        "kmeans.cluster_centers_\n",
        "\n",
        "ErrorWineKm =[]\n",
        "for i in range(1, 11):\n",
        "    kmeans = KMeans(n_clusters = i).fit(x)\n",
        "    kmeans.fit(x)\n",
        "    ErrorWineKm.append(kmeans.inertia_)\n",
        "\n",
        "print(wine_results)\n"
      ],
      "execution_count": 296,
      "outputs": [
        {
          "output_type": "stream",
          "text": [
            "/usr/local/lib/python3.6/dist-packages/ipykernel_launcher.py:38: DataConversionWarning: A column-vector y was passed when a 1d array was expected. Please change the shape of y to (n_samples, ), for example using ravel().\n",
            "/usr/local/lib/python3.6/dist-packages/ipykernel_launcher.py:52: DataConversionWarning: A column-vector y was passed when a 1d array was expected. Please change the shape of y to (n_samples, ), for example using ravel().\n",
            "/usr/local/lib/python3.6/dist-packages/sklearn/neural_network/_multilayer_perceptron.py:934: DataConversionWarning: A column-vector y was passed when a 1d array was expected. Please change the shape of y to (n_samples, ), for example using ravel().\n",
            "  y = column_or_1d(y, warn=True)\n",
            "/usr/local/lib/python3.6/dist-packages/sklearn/neural_network/_multilayer_perceptron.py:571: ConvergenceWarning: Stochastic Optimizer: Maximum iterations (200) reached and the optimization hasn't converged yet.\n",
            "  % self.max_iter, ConvergenceWarning)\n",
            "/usr/local/lib/python3.6/dist-packages/sklearn/neural_network/_multilayer_perceptron.py:934: DataConversionWarning: A column-vector y was passed when a 1d array was expected. Please change the shape of y to (n_samples, ), for example using ravel().\n",
            "  y = column_or_1d(y, warn=True)\n",
            "/usr/local/lib/python3.6/dist-packages/sklearn/neural_network/_multilayer_perceptron.py:571: ConvergenceWarning: Stochastic Optimizer: Maximum iterations (200) reached and the optimization hasn't converged yet.\n",
            "  % self.max_iter, ConvergenceWarning)\n"
          ],
          "name": "stderr"
        },
        {
          "output_type": "stream",
          "text": [
            "[0 0 0 0 2 0 0 0 0 0 0 0 0 0 0 0 0 0 0 2 2 2 0 0 2 2 0 0 2 0 0 0 0 0 0 2 2\n",
            " 0 0 2 2 0 0 2 2 0 0 0 0 0 0 0 0 0 0 0 0 0 0 1 2 1 2 1 1 2 1 1 2 2 2 1 1 0\n",
            " 2 1 1 1 2 1 1 2 2 1 1 1 1 1 2 2 1 1 1 1 1 2 2 1 2 1 2 1 1 1 2 1 1 1 1 2 1\n",
            " 1 2 1 1 1 1 1 1 1 2 1 1 1 1 1 1 1 1 1 2 1 1 2 2 2 2 1 1 1 2 2 1 1 2 2 1 2\n",
            " 2 1 1 1 1 2 2 2 1 2 2 2 1 2 1 2 2 1 2 2 2 2 1 1 2 2 2 2 2 1]\n",
            "{'tree': 88.88888888888889, 'knn5': 63.888888888888886, 'knn10': 61.111111111111114, 'mlp1': 25.0, 'mlp2': 36.11111111111111, 'kmeans': 52.77777777777778}\n"
          ],
          "name": "stdout"
        }
      ]
    },
    {
      "cell_type": "code",
      "metadata": {
        "id": "MwD8USwmR57U",
        "colab_type": "code",
        "colab": {}
      },
      "source": [
        ""
      ],
      "execution_count": 0,
      "outputs": []
    },
    {
      "cell_type": "code",
      "metadata": {
        "id": "qXU8cl_6Y5Gd",
        "colab_type": "code",
        "colab": {
          "base_uri": "https://localhost:8080/",
          "height": 224
        },
        "outputId": "da7972f3-c410-40b2-9108-b3262a9876e1"
      },
      "source": [
        "# BALANCE SCALE DATASET TESTS\n",
        "\n",
        "# Creating collections vars \n",
        "balance_scale_test = raw_dataset_balance_scale.sample(frac=0.2)\n",
        "balance_scale_fit = raw_dataset_balance_scale.drop(balance_scale_test.index)\n",
        "\n",
        "# Creating result vars \n",
        "balance_scale_results = {\n",
        "    'tree': 0,\n",
        "    'knn5': 0,\n",
        "    'knn10': 0,\n",
        "    'mlp1': 0,\n",
        "    'mlp2': 0,\n",
        "    'kmeans': 0\n",
        "} \n",
        "\n",
        "# X and Y vars \n",
        "balance_scale_x = balance_scale_fit[[1,2,3,4]]\n",
        "balance_scale_y = balance_scale_fit[[0]]\n",
        "\n",
        "# Binary Tree Fit and Tests \n",
        "balance_scale_tree = tree.DecisionTreeClassifier()\n",
        "balance_scale_tree.fit(balance_scale_x,balance_scale_y)\n",
        "balance_scale_tree.fit(balance_scale_x,balance_scale_y)\n",
        "balance_scale_tree.fit(balance_scale_x,balance_scale_y)\n",
        "balance_scale_tree.fit(balance_scale_x,balance_scale_y)\n",
        "balance_scale_tree.fit(balance_scale_x,balance_scale_y)\n",
        "balance_scale_test_result = balance_scale_tree.predict(balance_scale_test[[1,2,3,4]])\n",
        "\n",
        "i = 0\n",
        "acceptResult = 0\n",
        "for data in  balance_scale_test[0] :\n",
        "    if(data == balance_scale_test_result[i]):\n",
        "        acceptResult = acceptResult + 1\n",
        "    i = i+1\n",
        "\n",
        "balance_scale_results['tree']    = acceptResult/balance_scale_test_result.size * 100\n",
        "\n",
        "# KNN n=5 Fit and Tests \n",
        "balance_scale_knn5 = KNeighborsClassifier(weights='distance', n_neighbors=5)\n",
        "balance_scale_knn5.fit(balance_scale_x,balance_scale_y)\n",
        "balance_scale_test_result = balance_scale_knn5.predict(balance_scale_test[[1,2,3,4]])\n",
        "\n",
        "i = 0\n",
        "acceptResult = 0\n",
        "for data in  balance_scale_test[0] :\n",
        "    if(data == balance_scale_test_result[i]):\n",
        "        acceptResult = acceptResult + 1\n",
        "    i = i+1\n",
        "\n",
        "balance_scale_results['knn5'] = acceptResult/balance_scale_test_result.size * 100\n",
        "\n",
        "# KNN n=10 Fit and Tests \n",
        "balance_scale_knn10 = KNeighborsClassifier(weights='distance', n_neighbors=10)\n",
        "balance_scale_knn10.fit(balance_scale_x,balance_scale_y)\n",
        "balance_scale_test_result = balance_scale_knn10.predict(balance_scale_test[[1,2,3,4]])\n",
        "\n",
        "i = 0\n",
        "acceptResult = 0\n",
        "for data in  balance_scale_test[0] :\n",
        "    if(data == balance_scale_test_result[i]):\n",
        "        acceptResult = acceptResult + 1\n",
        "    i = i+1\n",
        "\n",
        "balance_scale_results['knn10'] = acceptResult/balance_scale_test_result.size * 100\n",
        "\n",
        "# MLP1 Fit and Tests\n",
        "#balance_scale_mlp1 = MLPClassifier(hidden_layer_sizes=(100,100,0), max_iter=1000, alpha=0.0001,solver='sgd', verbose=10,  random_state=21,tol=0.000000001)\n",
        "balance_scale_mlp1 = MLPClassifier(hidden_layer_sizes=(5, 2))\n",
        "balance_scale_mlp1.fit(balance_scale_x,balance_scale_y, )\n",
        "balance_scale_test_result = balance_scale_mlp1.predict(balance_scale_test[[1,2,3,4]])\n",
        "\n",
        "i = 0\n",
        "acceptResult = 0\n",
        "for data in  balance_scale_test[0] :\n",
        "    if(data == balance_scale_test_result[i]):\n",
        "        acceptResult = acceptResult + 1\n",
        "    i = i+1\n",
        "\n",
        "balance_scale_results['mlp1'] = acceptResult/balance_scale_test_result.size * 100\n",
        "\n",
        "# MLP2 Fit and Tests \n",
        "balance_scale_mlp2 = MLPClassifier(hidden_layer_sizes=(10, 5))\n",
        "balance_scale_mlp2.fit(balance_scale_x,balance_scale_y)\n",
        "balance_scale_test_result = balance_scale_mlp2.predict(balance_scale_test[[1,2,3,4]])\n",
        "\n",
        "i = 0\n",
        "acceptResult = 0\n",
        "for data in  balance_scale_test[0] :\n",
        "    if(data == balance_scale_test_result[i]):\n",
        "        acceptResult = acceptResult + 1\n",
        "    i = i+1\n",
        "\n",
        "balance_scale_results['mlp2'] = acceptResult/balance_scale_test_result.size * 100\n",
        "\n",
        "\n",
        "# Kmeans Fit and Tests \n",
        "balance_scale_km = KMeans(n_clusters=3)\n",
        "balance_scale_km.fit(balance_scale_x,balance_scale_y)\n",
        "balance_scale_test_result = balance_scale_km.predict(balance_scale_test[[1,2,3,4]])\n",
        "\n",
        "i = 0\n",
        "acceptResult = 0\n",
        "for data in  balance_scale_test[0] :\n",
        "    if(data == balance_scale_test_result[i]):\n",
        "        acceptResult = acceptResult + 1\n",
        "    i = i+1\n",
        "\n",
        "balance_scale_results['kmeans'] = acceptResult/balance_scale_test_result.size * 100\n",
        "\n",
        "print(balance_scale_results)"
      ],
      "execution_count": 266,
      "outputs": [
        {
          "output_type": "stream",
          "text": [
            "/usr/local/lib/python3.6/dist-packages/ipykernel_launcher.py:38: DataConversionWarning: A column-vector y was passed when a 1d array was expected. Please change the shape of y to (n_samples, ), for example using ravel().\n",
            "/usr/local/lib/python3.6/dist-packages/ipykernel_launcher.py:52: DataConversionWarning: A column-vector y was passed when a 1d array was expected. Please change the shape of y to (n_samples, ), for example using ravel().\n",
            "/usr/local/lib/python3.6/dist-packages/sklearn/neural_network/_multilayer_perceptron.py:934: DataConversionWarning: A column-vector y was passed when a 1d array was expected. Please change the shape of y to (n_samples, ), for example using ravel().\n",
            "  y = column_or_1d(y, warn=True)\n",
            "/usr/local/lib/python3.6/dist-packages/sklearn/neural_network/_multilayer_perceptron.py:571: ConvergenceWarning: Stochastic Optimizer: Maximum iterations (200) reached and the optimization hasn't converged yet.\n",
            "  % self.max_iter, ConvergenceWarning)\n",
            "/usr/local/lib/python3.6/dist-packages/sklearn/neural_network/_multilayer_perceptron.py:934: DataConversionWarning: A column-vector y was passed when a 1d array was expected. Please change the shape of y to (n_samples, ), for example using ravel().\n",
            "  y = column_or_1d(y, warn=True)\n"
          ],
          "name": "stderr"
        },
        {
          "output_type": "stream",
          "text": [
            "{'tree': 75.2, 'knn5': 78.4, 'knn10': 87.2, 'mlp1': 84.8, 'mlp2': 85.6, 'kmeans': 0.0}\n"
          ],
          "name": "stdout"
        },
        {
          "output_type": "stream",
          "text": [
            "/usr/local/lib/python3.6/dist-packages/sklearn/neural_network/_multilayer_perceptron.py:571: ConvergenceWarning: Stochastic Optimizer: Maximum iterations (200) reached and the optimization hasn't converged yet.\n",
            "  % self.max_iter, ConvergenceWarning)\n"
          ],
          "name": "stderr"
        }
      ]
    },
    {
      "cell_type": "code",
      "metadata": {
        "id": "nyz8SJoMhGYk",
        "colab_type": "code",
        "colab": {
          "base_uri": "https://localhost:8080/",
          "height": 190
        },
        "outputId": "e8e34e05-1179-4667-a564-9c576705ec57"
      },
      "source": [
        "# ABALONE SCALE DATASET TESTS\n",
        "\n",
        "# Creating collections vars \n",
        "abalone_test = raw_dataset_abalone.sample(frac=0.2)\n",
        "abalone_fit = raw_dataset_abalone.drop(abalone_test.index)\n",
        "\n",
        "# Creating result vars \n",
        "abalone_results = {\n",
        "    'tree': 0,\n",
        "    'knn5': 0,\n",
        "    'knn10': 0,\n",
        "    'mlp1': 0,\n",
        "    'mlp2': 0,\n",
        "    'kmeans': 0\n",
        "} \n",
        "\n",
        "# X and Y vars \n",
        "abalone_x = abalone_fit[[1,2,3,4,5,6,7,8]]\n",
        "abalone_y = abalone_fit[[0]]\n",
        "\n",
        "# Binary Tree Fit and Tests \n",
        "abalone_tree = tree.DecisionTreeClassifier()\n",
        "abalone_tree.fit(abalone_x,abalone_y)\n",
        "abalone_tree.fit(abalone_x,abalone_y)\n",
        "abalone_tree.fit(abalone_x,abalone_y)\n",
        "abalone_tree.fit(abalone_x,abalone_y)\n",
        "abalone_tree.fit(abalone_x,abalone_y)\n",
        "abalone_test_result = abalone_tree.predict(abalone_test[[1,2,3,4,5,6,7,8]])\n",
        "\n",
        "i = 0\n",
        "acceptResult = 0\n",
        "for data in  abalone_test[0] :\n",
        "    if(data == abalone_test_result[i]):\n",
        "        acceptResult = acceptResult + 1\n",
        "    i = i+1\n",
        "\n",
        "abalone_results['tree']    = acceptResult/abalone_test_result.size * 100\n",
        "\n",
        "# KNN n=5 Fit and Tests \n",
        "abalone_knn5 = KNeighborsClassifier(weights='distance', n_neighbors=5)\n",
        "abalone_knn5.fit(abalone_x,abalone_y)\n",
        "abalone_test_result = abalone_knn5.predict(abalone_test[[1,2,3,4,5,6,7,8]])\n",
        "\n",
        "i = 0\n",
        "acceptResult = 0\n",
        "for data in  abalone_test[0] :\n",
        "    if(data == abalone_test_result[i]):\n",
        "        acceptResult = acceptResult + 1\n",
        "    i = i+1\n",
        "\n",
        "abalone_results['knn5'] = acceptResult/abalone_test_result.size * 100\n",
        "\n",
        "# KNN n=10 Fit and Tests \n",
        "abalone_knn10 = KNeighborsClassifier(weights='distance', n_neighbors=10)\n",
        "abalone_knn10.fit(abalone_x,abalone_y)\n",
        "abalone_test_result = abalone_knn10.predict(abalone_test[[1,2,3,4,5,6,7,8]])\n",
        "\n",
        "i = 0\n",
        "acceptResult = 0\n",
        "for data in  abalone_test[0] :\n",
        "    if(data == abalone_test_result[i]):\n",
        "        acceptResult = acceptResult + 1\n",
        "    i = i+1\n",
        "\n",
        "abalone_results['knn10'] = acceptResult/abalone_test_result.size * 100\n",
        "\n",
        "# MLP1 Fit and Tests\n",
        "#abalone_mlp1 = MLPClassifier(hidden_layer_sizes=(100,100,0), max_iter=1000, alpha=0.0001,solver='sgd', verbose=10,  random_state=21,tol=0.000000001)\n",
        "abalone_mlp1 = MLPClassifier(hidden_layer_sizes=(5, 2))\n",
        "abalone_mlp1.fit(abalone_x,abalone_y, )\n",
        "abalone_test_result = abalone_mlp1.predict(abalone_test[[1,2,3,4,5,6,7,8]])\n",
        "\n",
        "i = 0\n",
        "acceptResult = 0\n",
        "for data in  abalone_test[0] :\n",
        "    if(data == abalone_test_result[i]):\n",
        "        acceptResult = acceptResult + 1\n",
        "    i = i+1\n",
        "\n",
        "abalone_results['mlp1'] = acceptResult/abalone_test_result.size * 100\n",
        "\n",
        "# MLP2 Fit and Tests \n",
        "abalone_mlp2 = MLPClassifier(hidden_layer_sizes=(10, 5))\n",
        "abalone_mlp2.fit(abalone_x,abalone_y)\n",
        "abalone_test_result = abalone_mlp2.predict(abalone_test[[1,2,3,4,5,6,7,8]])\n",
        "\n",
        "i = 0\n",
        "acceptResult = 0\n",
        "for data in  abalone_test[0] :\n",
        "    if(data == abalone_test_result[i]):\n",
        "        acceptResult = acceptResult + 1\n",
        "    i = i+1\n",
        "\n",
        "abalone_results['mlp2'] = acceptResult/abalone_test_result.size * 100\n",
        "\n",
        "\n",
        "# Kmeans Fit and Tests \n",
        "abalone_km = KMeans(n_clusters=3)\n",
        "abalone_km.fit(abalone_x,abalone_y)\n",
        "abalone_test_result = abalone_km.predict(abalone_test[[1,2,3,4,5,6,7,8]])\n",
        "\n",
        "i = 0\n",
        "acceptResult = 0\n",
        "for data in  abalone_test[0] :\n",
        "    if(data == abalone_test_result[i]):\n",
        "        acceptResult = acceptResult + 1\n",
        "    i = i+1\n",
        "\n",
        "abalone_results['kmeans'] = acceptResult/abalone_test_result.size * 100\n",
        "\n",
        "print(abalone_results)\n"
      ],
      "execution_count": 267,
      "outputs": [
        {
          "output_type": "stream",
          "text": [
            "/usr/local/lib/python3.6/dist-packages/ipykernel_launcher.py:38: DataConversionWarning: A column-vector y was passed when a 1d array was expected. Please change the shape of y to (n_samples, ), for example using ravel().\n",
            "/usr/local/lib/python3.6/dist-packages/ipykernel_launcher.py:52: DataConversionWarning: A column-vector y was passed when a 1d array was expected. Please change the shape of y to (n_samples, ), for example using ravel().\n",
            "/usr/local/lib/python3.6/dist-packages/sklearn/neural_network/_multilayer_perceptron.py:934: DataConversionWarning: A column-vector y was passed when a 1d array was expected. Please change the shape of y to (n_samples, ), for example using ravel().\n",
            "  y = column_or_1d(y, warn=True)\n",
            "/usr/local/lib/python3.6/dist-packages/sklearn/neural_network/_multilayer_perceptron.py:571: ConvergenceWarning: Stochastic Optimizer: Maximum iterations (200) reached and the optimization hasn't converged yet.\n",
            "  % self.max_iter, ConvergenceWarning)\n",
            "/usr/local/lib/python3.6/dist-packages/sklearn/neural_network/_multilayer_perceptron.py:934: DataConversionWarning: A column-vector y was passed when a 1d array was expected. Please change the shape of y to (n_samples, ), for example using ravel().\n",
            "  y = column_or_1d(y, warn=True)\n"
          ],
          "name": "stderr"
        },
        {
          "output_type": "stream",
          "text": [
            "{'tree': 48.862275449101794, 'knn5': 50.778443113772454, 'knn10': 52.33532934131736, 'mlp1': 51.616766467065865, 'mlp2': 51.73652694610779, 'kmeans': 0.0}\n"
          ],
          "name": "stdout"
        }
      ]
    },
    {
      "cell_type": "markdown",
      "metadata": {
        "id": "vmHUZVTOunil",
        "colab_type": "text"
      },
      "source": [
        "# **Relatório de desempenho dos algoritimos**\n",
        "\n",
        "## **Wine**\n",
        "\n",
        "##### **Resultados Algoritmos**"
      ]
    },
    {
      "cell_type": "code",
      "metadata": {
        "id": "iSBUg-RVu_TW",
        "colab_type": "code",
        "colab": {
          "base_uri": "https://localhost:8080/",
          "height": 235
        },
        "outputId": "e484858b-ac34-463c-c665-bd01e48b6e90"
      },
      "source": [
        "pd.DataFrame.from_dict(wine_results, orient='index')"
      ],
      "execution_count": 291,
      "outputs": [
        {
          "output_type": "execute_result",
          "data": {
            "text/html": [
              "<div>\n",
              "<style scoped>\n",
              "    .dataframe tbody tr th:only-of-type {\n",
              "        vertical-align: middle;\n",
              "    }\n",
              "\n",
              "    .dataframe tbody tr th {\n",
              "        vertical-align: top;\n",
              "    }\n",
              "\n",
              "    .dataframe thead th {\n",
              "        text-align: right;\n",
              "    }\n",
              "</style>\n",
              "<table border=\"1\" class=\"dataframe\">\n",
              "  <thead>\n",
              "    <tr style=\"text-align: right;\">\n",
              "      <th></th>\n",
              "      <th>0</th>\n",
              "    </tr>\n",
              "  </thead>\n",
              "  <tbody>\n",
              "    <tr>\n",
              "      <th>tree</th>\n",
              "      <td>94.444444</td>\n",
              "    </tr>\n",
              "    <tr>\n",
              "      <th>knn5</th>\n",
              "      <td>80.555556</td>\n",
              "    </tr>\n",
              "    <tr>\n",
              "      <th>knn10</th>\n",
              "      <td>83.333333</td>\n",
              "    </tr>\n",
              "    <tr>\n",
              "      <th>mlp1</th>\n",
              "      <td>41.666667</td>\n",
              "    </tr>\n",
              "    <tr>\n",
              "      <th>mlp2</th>\n",
              "      <td>52.777778</td>\n",
              "    </tr>\n",
              "    <tr>\n",
              "      <th>kmeans</th>\n",
              "      <td>5.555556</td>\n",
              "    </tr>\n",
              "  </tbody>\n",
              "</table>\n",
              "</div>"
            ],
            "text/plain": [
              "                0\n",
              "tree    94.444444\n",
              "knn5    80.555556\n",
              "knn10   83.333333\n",
              "mlp1    41.666667\n",
              "mlp2    52.777778\n",
              "kmeans   5.555556"
            ]
          },
          "metadata": {
            "tags": []
          },
          "execution_count": 291
        }
      ]
    },
    {
      "cell_type": "markdown",
      "metadata": {
        "id": "g0HbztAIyAH9",
        "colab_type": "text"
      },
      "source": [
        "##### **Curva de taxa de erro em iterações da MLP1**"
      ]
    },
    {
      "cell_type": "code",
      "metadata": {
        "id": "vwC418MByovb",
        "colab_type": "code",
        "colab": {
          "base_uri": "https://localhost:8080/",
          "height": 312
        },
        "outputId": "f835a47a-2cc8-4eb2-e3d2-821060905754"
      },
      "source": [
        "plt.ylabel('Custo')\n",
        "plt.xlabel('Iteração')\n",
        "plt.title(\"Learning rate =\" + str(0.001))\n",
        "plt.plot(wine_mlp1.loss_curve_)"
      ],
      "execution_count": 292,
      "outputs": [
        {
          "output_type": "execute_result",
          "data": {
            "text/plain": [
              "[<matplotlib.lines.Line2D at 0x7fd48f7eb6d8>]"
            ]
          },
          "metadata": {
            "tags": []
          },
          "execution_count": 292
        },
        {
          "output_type": "display_data",
          "data": {
            "image/png": "[encoded data removed]",
            "text/plain": [
              "<Figure size 432x288 with 1 Axes>"
            ]
          },
          "metadata": {
            "tags": []
          }
        }
      ]
    },
    {
      "cell_type": "markdown",
      "metadata": {
        "id": "D351yL7wHP0l",
        "colab_type": "text"
      },
      "source": [
        "##### **Curva de taxa de erro em iterações da MLP2**"
      ]
    },
    {
      "cell_type": "code",
      "metadata": {
        "id": "f0K_eV6-HXGZ",
        "colab_type": "code",
        "colab": {
          "base_uri": "https://localhost:8080/",
          "height": 312
        },
        "outputId": "851f822a-8672-44ff-9ed6-a242116f8d8d"
      },
      "source": [
        "plt.ylabel('Custo')\n",
        "plt.xlabel('Iteração')\n",
        "plt.title(\"Learning rate =\" + str(0.001))\n",
        "plt.plot(wine_mlp2.loss_curve_)"
      ],
      "execution_count": 293,
      "outputs": [
        {
          "output_type": "execute_result",
          "data": {
            "text/plain": [
              "[<matplotlib.lines.Line2D at 0x7fd48f87a438>]"
            ]
          },
          "metadata": {
            "tags": []
          },
          "execution_count": 293
        },
        {
          "output_type": "display_data",
          "data": {
            "image/png": "[encoded data removed]",
            "text/plain": [
              "<Figure size 432x288 with 1 Axes>"
            ]
          },
          "metadata": {
            "tags": []
          }
        }
      ]
    },
    {
      "cell_type": "markdown",
      "metadata": {
        "id": "3w85N2_326VI",
        "colab_type": "text"
      },
      "source": [
        "##### **Curva de taxa de erro em iterações K-means**"
      ]
    },
    {
      "cell_type": "code",
      "metadata": {
        "id": "3Z8DIsK-IBdl",
        "colab_type": "code",
        "colab": {
          "base_uri": "https://localhost:8080/",
          "height": 295
        },
        "outputId": "43011c03-fdbd-4286-ea92-d92bfe68b2e8"
      },
      "source": [
        "\n",
        "\n",
        "plt.plot(range(1, 11), ErrorWineKm)\n",
        "plt.title('Elbow method')\n",
        "plt.xlabel('No of clusters')\n",
        "plt.ylabel('Error')\n",
        "plt.show()"
      ],
      "execution_count": 297,
      "outputs": [
        {
          "output_type": "display_data",
          "data": {
            "image/png": "[encoded data removed]",
            "text/plain": [
              "<Figure size 432x288 with 1 Axes>"
            ]
          },
          "metadata": {
            "tags": []
          }
        }
      ]
    },
    {
      "cell_type": "markdown",
      "metadata": {
        "id": "VJJEY2pnvpJ3",
        "colab_type": "text"
      },
      "source": [
        "## **Balance Scale**"
      ]
    },
    {
      "cell_type": "code",
      "metadata": {
        "id": "xruta6Egvyn7",
        "colab_type": "code",
        "colab": {
          "base_uri": "https://localhost:8080/",
          "height": 235
        },
        "outputId": "96344e25-8aa9-4082-a753-56b0f2354ae4"
      },
      "source": [
        "pd.DataFrame.from_dict(balance_scale_results, orient='index')"
      ],
      "execution_count": 180,
      "outputs": [
        {
          "output_type": "execute_result",
          "data": {
            "text/html": [
              "<div>\n",
              "<style scoped>\n",
              "    .dataframe tbody tr th:only-of-type {\n",
              "        vertical-align: middle;\n",
              "    }\n",
              "\n",
              "    .dataframe tbody tr th {\n",
              "        vertical-align: top;\n",
              "    }\n",
              "\n",
              "    .dataframe thead th {\n",
              "        text-align: right;\n",
              "    }\n",
              "</style>\n",
              "<table border=\"1\" class=\"dataframe\">\n",
              "  <thead>\n",
              "    <tr style=\"text-align: right;\">\n",
              "      <th></th>\n",
              "      <th>0</th>\n",
              "    </tr>\n",
              "  </thead>\n",
              "  <tbody>\n",
              "    <tr>\n",
              "      <th>tree</th>\n",
              "      <td>76.0</td>\n",
              "    </tr>\n",
              "    <tr>\n",
              "      <th>knn5</th>\n",
              "      <td>84.8</td>\n",
              "    </tr>\n",
              "    <tr>\n",
              "      <th>knn10</th>\n",
              "      <td>91.2</td>\n",
              "    </tr>\n",
              "    <tr>\n",
              "      <th>mlp1</th>\n",
              "      <td>79.2</td>\n",
              "    </tr>\n",
              "    <tr>\n",
              "      <th>mlp2</th>\n",
              "      <td>89.6</td>\n",
              "    </tr>\n",
              "    <tr>\n",
              "      <th>kmeans</th>\n",
              "      <td>0.0</td>\n",
              "    </tr>\n",
              "  </tbody>\n",
              "</table>\n",
              "</div>"
            ],
            "text/plain": [
              "           0\n",
              "tree    76.0\n",
              "knn5    84.8\n",
              "knn10   91.2\n",
              "mlp1    79.2\n",
              "mlp2    89.6\n",
              "kmeans   0.0"
            ]
          },
          "metadata": {
            "tags": []
          },
          "execution_count": 180
        }
      ]
    },
    {
      "cell_type": "markdown",
      "metadata": {
        "id": "gdVz2VzDEU04",
        "colab_type": "text"
      },
      "source": [
        "##### **Curva de taxa de erro em iterações da MLP1**"
      ]
    },
    {
      "cell_type": "code",
      "metadata": {
        "id": "iyVuVAkyEWsR",
        "colab_type": "code",
        "colab": {
          "base_uri": "https://localhost:8080/",
          "height": 312
        },
        "outputId": "0e18edf0-c771-4eaa-ff71-b475a45054f4"
      },
      "source": [
        "plt.ylabel('Custo')\n",
        "plt.xlabel('Iteração')\n",
        "plt.title(\"Learning rate =\" + str(0.001))\n",
        "plt.plot(balance_scale_mlp1.loss_curve_)"
      ],
      "execution_count": 220,
      "outputs": [
        {
          "output_type": "execute_result",
          "data": {
            "text/plain": [
              "[<matplotlib.lines.Line2D at 0x7fd48fb270f0>]"
            ]
          },
          "metadata": {
            "tags": []
          },
          "execution_count": 220
        },
        {
          "output_type": "display_data",
          "data": {
            "image/png": "[encoded data removed]",
            "text/plain": [
              "<Figure size 432x288 with 1 Axes>"
            ]
          },
          "metadata": {
            "tags": []
          }
        }
      ]
    },
    {
      "cell_type": "markdown",
      "metadata": {
        "id": "_GSZORoaGvUI",
        "colab_type": "text"
      },
      "source": [
        "##### **Curva de taxa de erro em iterações da MLP2**"
      ]
    },
    {
      "cell_type": "code",
      "metadata": {
        "id": "9i66Sz4rG2eX",
        "colab_type": "code",
        "colab": {
          "base_uri": "https://localhost:8080/",
          "height": 312
        },
        "outputId": "bd07fb08-4249-453f-acab-ac1bb05b168b"
      },
      "source": [
        "plt.ylabel('Custo')\n",
        "plt.xlabel('Iteração')\n",
        "plt.title(\"Learning rate =\" + str(0.001))\n",
        "plt.plot(balance_scale_mlp2.loss_curve_)"
      ],
      "execution_count": 223,
      "outputs": [
        {
          "output_type": "execute_result",
          "data": {
            "text/plain": [
              "[<matplotlib.lines.Line2D at 0x7fd48f9d6438>]"
            ]
          },
          "metadata": {
            "tags": []
          },
          "execution_count": 223
        },
        {
          "output_type": "display_data",
          "data": {
            "image/png": "[encoded data removed]",
            "text/plain": [
              "<Figure size 432x288 with 1 Axes>"
            ]
          },
          "metadata": {
            "tags": []
          }
        }
      ]
    },
    {
      "cell_type": "markdown",
      "metadata": {
        "id": "dJbb-ITkHxEe",
        "colab_type": "text"
      },
      "source": [
        "##### **Curva de taxa de erro em iterações K-means**"
      ]
    },
    {
      "cell_type": "markdown",
      "metadata": {
        "id": "J8JnFRmrxEQn",
        "colab_type": "text"
      },
      "source": [
        "## **Abalone**"
      ]
    },
    {
      "cell_type": "code",
      "metadata": {
        "id": "72QoKz24xMht",
        "colab_type": "code",
        "colab": {
          "base_uri": "https://localhost:8080/",
          "height": 235
        },
        "outputId": "00771a3a-6d09-43e5-fb83-7708b3fc835a"
      },
      "source": [
        "pd.DataFrame.from_dict(abalone_results, orient='index')"
      ],
      "execution_count": 181,
      "outputs": [
        {
          "output_type": "execute_result",
          "data": {
            "text/html": [
              "<div>\n",
              "<style scoped>\n",
              "    .dataframe tbody tr th:only-of-type {\n",
              "        vertical-align: middle;\n",
              "    }\n",
              "\n",
              "    .dataframe tbody tr th {\n",
              "        vertical-align: top;\n",
              "    }\n",
              "\n",
              "    .dataframe thead th {\n",
              "        text-align: right;\n",
              "    }\n",
              "</style>\n",
              "<table border=\"1\" class=\"dataframe\">\n",
              "  <thead>\n",
              "    <tr style=\"text-align: right;\">\n",
              "      <th></th>\n",
              "      <th>0</th>\n",
              "    </tr>\n",
              "  </thead>\n",
              "  <tbody>\n",
              "    <tr>\n",
              "      <th>tree</th>\n",
              "      <td>48.143713</td>\n",
              "    </tr>\n",
              "    <tr>\n",
              "      <th>knn5</th>\n",
              "      <td>54.371257</td>\n",
              "    </tr>\n",
              "    <tr>\n",
              "      <th>knn10</th>\n",
              "      <td>54.610778</td>\n",
              "    </tr>\n",
              "    <tr>\n",
              "      <th>mlp1</th>\n",
              "      <td>38.802395</td>\n",
              "    </tr>\n",
              "    <tr>\n",
              "      <th>mlp2</th>\n",
              "      <td>54.371257</td>\n",
              "    </tr>\n",
              "    <tr>\n",
              "      <th>kmeans</th>\n",
              "      <td>0.000000</td>\n",
              "    </tr>\n",
              "  </tbody>\n",
              "</table>\n",
              "</div>"
            ],
            "text/plain": [
              "                0\n",
              "tree    48.143713\n",
              "knn5    54.371257\n",
              "knn10   54.610778\n",
              "mlp1    38.802395\n",
              "mlp2    54.371257\n",
              "kmeans   0.000000"
            ]
          },
          "metadata": {
            "tags": []
          },
          "execution_count": 181
        }
      ]
    },
    {
      "cell_type": "markdown",
      "metadata": {
        "id": "DrT_0dgcFJZm",
        "colab_type": "text"
      },
      "source": [
        "##### **Curva de taxa de erro em iterações da MLP1**"
      ]
    },
    {
      "cell_type": "code",
      "metadata": {
        "id": "GjO5s4t8FLK_",
        "colab_type": "code",
        "colab": {
          "base_uri": "https://localhost:8080/",
          "height": 312
        },
        "outputId": "06768dc3-fd8a-4fe9-f6ef-193a155f44c1"
      },
      "source": [
        "plt.ylabel('Custo')\n",
        "plt.xlabel('Iteração')\n",
        "plt.title(\"Learning rate =\" + str(0.001))\n",
        "plt.plot(abalone_mlp1.loss_curve_)"
      ],
      "execution_count": 221,
      "outputs": [
        {
          "output_type": "execute_result",
          "data": {
            "text/plain": [
              "[<matplotlib.lines.Line2D at 0x7fd48fa84940>]"
            ]
          },
          "metadata": {
            "tags": []
          },
          "execution_count": 221
        },
        {
          "output_type": "display_data",
          "data": {
            "image/png": "[encoded data removed]",
            "text/plain": [
              "<Figure size 432x288 with 1 Axes>"
            ]
          },
          "metadata": {
            "tags": []
          }
        }
      ]
    },
    {
      "cell_type": "markdown",
      "metadata": {
        "id": "y9yAa0ykGKXs",
        "colab_type": "text"
      },
      "source": [
        "##### **Curva de taxa de erro em iterações da MLP2**\n"
      ]
    },
    {
      "cell_type": "code",
      "metadata": {
        "id": "-KcpAbLQGSHA",
        "colab_type": "code",
        "colab": {
          "base_uri": "https://localhost:8080/",
          "height": 312
        },
        "outputId": "710986dd-7a8c-4b94-a45b-8320857c5f4d"
      },
      "source": [
        "plt.ylabel('Custo')\n",
        "plt.xlabel('Iteração')\n",
        "plt.title(\"Learning rate =\" + str(0.001))\n",
        "plt.plot(abalone_mlp2.loss_curve_)"
      ],
      "execution_count": 222,
      "outputs": [
        {
          "output_type": "execute_result",
          "data": {
            "text/plain": [
              "[<matplotlib.lines.Line2D at 0x7fd48fa6f198>]"
            ]
          },
          "metadata": {
            "tags": []
          },
          "execution_count": 222
        },
        {
          "output_type": "display_data",
          "data": {
            "image/png": "[encoded data removed]",
            "text/plain": [
              "<Figure size 432x288 with 1 Axes>"
            ]
          },
          "metadata": {
            "tags": []
          }
        }
      ]
    },
    {
      "cell_type": "markdown",
      "metadata": {
        "id": "TMIuhklOH0wW",
        "colab_type": "text"
      },
      "source": [
        "##### **Curva de taxa de erro em iterações K-means**"
      ]
    }
  ]
}